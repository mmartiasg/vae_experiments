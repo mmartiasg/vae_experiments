{
 "cells": [
  {
   "cell_type": "code",
   "outputs": [
    {
     "ename": "ImportError",
     "evalue": "cannot import name 'enum_type_wrapper' from 'google.protobuf.internal' (unknown location)",
     "output_type": "error",
     "traceback": [
      "\u001B[0;31m---------------------------------------------------------------------------\u001B[0m",
      "\u001B[0;31mImportError\u001B[0m                               Traceback (most recent call last)",
      "Cell \u001B[0;32mIn[2], line 1\u001B[0m\n\u001B[0;32m----> 1\u001B[0m \u001B[38;5;28;01mimport\u001B[39;00m \u001B[38;5;21;01mtensorflow\u001B[39;00m \u001B[38;5;28;01mas\u001B[39;00m \u001B[38;5;21;01mtf\u001B[39;00m\n",
      "File \u001B[0;32m~/miniforge3/lib/python3.9/site-packages/tensorflow/__init__.py:37\u001B[0m\n\u001B[1;32m     34\u001B[0m \u001B[38;5;28;01mimport\u001B[39;00m \u001B[38;5;21;01msys\u001B[39;00m \u001B[38;5;28;01mas\u001B[39;00m \u001B[38;5;21;01m_sys\u001B[39;00m\n\u001B[1;32m     35\u001B[0m \u001B[38;5;28;01mimport\u001B[39;00m \u001B[38;5;21;01mtyping\u001B[39;00m \u001B[38;5;28;01mas\u001B[39;00m \u001B[38;5;21;01m_typing\u001B[39;00m\n\u001B[0;32m---> 37\u001B[0m \u001B[38;5;28;01mfrom\u001B[39;00m \u001B[38;5;21;01mtensorflow\u001B[39;00m\u001B[38;5;21;01m.\u001B[39;00m\u001B[38;5;21;01mpython\u001B[39;00m\u001B[38;5;21;01m.\u001B[39;00m\u001B[38;5;21;01mtools\u001B[39;00m \u001B[38;5;28;01mimport\u001B[39;00m module_util \u001B[38;5;28;01mas\u001B[39;00m _module_util\n\u001B[1;32m     38\u001B[0m \u001B[38;5;28;01mfrom\u001B[39;00m \u001B[38;5;21;01mtensorflow\u001B[39;00m\u001B[38;5;21;01m.\u001B[39;00m\u001B[38;5;21;01mpython\u001B[39;00m\u001B[38;5;21;01m.\u001B[39;00m\u001B[38;5;21;01mutil\u001B[39;00m\u001B[38;5;21;01m.\u001B[39;00m\u001B[38;5;21;01mlazy_loader\u001B[39;00m \u001B[38;5;28;01mimport\u001B[39;00m LazyLoader \u001B[38;5;28;01mas\u001B[39;00m _LazyLoader\n\u001B[1;32m     40\u001B[0m \u001B[38;5;66;03m# Make sure code inside the TensorFlow codebase can use tf2.enabled() at import.\u001B[39;00m\n",
      "File \u001B[0;32m~/miniforge3/lib/python3.9/site-packages/tensorflow/python/__init__.py:37\u001B[0m\n\u001B[1;32m     29\u001B[0m \u001B[38;5;66;03m# We aim to keep this file minimal and ideally remove completely.\u001B[39;00m\n\u001B[1;32m     30\u001B[0m \u001B[38;5;66;03m# If you are adding a new file with @tf_export decorators,\u001B[39;00m\n\u001B[1;32m     31\u001B[0m \u001B[38;5;66;03m# import it in modules_with_exports.py instead.\u001B[39;00m\n\u001B[1;32m     32\u001B[0m \n\u001B[1;32m     33\u001B[0m \u001B[38;5;66;03m# go/tf-wildcard-import\u001B[39;00m\n\u001B[1;32m     34\u001B[0m \u001B[38;5;66;03m# pylint: disable=wildcard-import,g-bad-import-order,g-import-not-at-top\u001B[39;00m\n\u001B[1;32m     36\u001B[0m \u001B[38;5;28;01mfrom\u001B[39;00m \u001B[38;5;21;01mtensorflow\u001B[39;00m\u001B[38;5;21;01m.\u001B[39;00m\u001B[38;5;21;01mpython\u001B[39;00m \u001B[38;5;28;01mimport\u001B[39;00m pywrap_tensorflow \u001B[38;5;28;01mas\u001B[39;00m _pywrap_tensorflow\n\u001B[0;32m---> 37\u001B[0m \u001B[38;5;28;01mfrom\u001B[39;00m \u001B[38;5;21;01mtensorflow\u001B[39;00m\u001B[38;5;21;01m.\u001B[39;00m\u001B[38;5;21;01mpython\u001B[39;00m\u001B[38;5;21;01m.\u001B[39;00m\u001B[38;5;21;01meager\u001B[39;00m \u001B[38;5;28;01mimport\u001B[39;00m context\n\u001B[1;32m     39\u001B[0m \u001B[38;5;66;03m# pylint: enable=wildcard-import\u001B[39;00m\n\u001B[1;32m     40\u001B[0m \n\u001B[1;32m     41\u001B[0m \u001B[38;5;66;03m# Bring in subpackages.\u001B[39;00m\n\u001B[1;32m     42\u001B[0m \u001B[38;5;28;01mfrom\u001B[39;00m \u001B[38;5;21;01mtensorflow\u001B[39;00m\u001B[38;5;21;01m.\u001B[39;00m\u001B[38;5;21;01mpython\u001B[39;00m \u001B[38;5;28;01mimport\u001B[39;00m data\n",
      "File \u001B[0;32m~/miniforge3/lib/python3.9/site-packages/tensorflow/python/eager/context.py:28\u001B[0m\n\u001B[1;32m     25\u001B[0m \u001B[38;5;28;01mfrom\u001B[39;00m \u001B[38;5;21;01mabsl\u001B[39;00m \u001B[38;5;28;01mimport\u001B[39;00m logging\n\u001B[1;32m     26\u001B[0m \u001B[38;5;28;01mimport\u001B[39;00m \u001B[38;5;21;01mnumpy\u001B[39;00m \u001B[38;5;28;01mas\u001B[39;00m \u001B[38;5;21;01mnp\u001B[39;00m\n\u001B[0;32m---> 28\u001B[0m \u001B[38;5;28;01mfrom\u001B[39;00m \u001B[38;5;21;01mtensorflow\u001B[39;00m\u001B[38;5;21;01m.\u001B[39;00m\u001B[38;5;21;01mcore\u001B[39;00m\u001B[38;5;21;01m.\u001B[39;00m\u001B[38;5;21;01mframework\u001B[39;00m \u001B[38;5;28;01mimport\u001B[39;00m function_pb2\n\u001B[1;32m     29\u001B[0m \u001B[38;5;28;01mfrom\u001B[39;00m \u001B[38;5;21;01mtensorflow\u001B[39;00m\u001B[38;5;21;01m.\u001B[39;00m\u001B[38;5;21;01mcore\u001B[39;00m\u001B[38;5;21;01m.\u001B[39;00m\u001B[38;5;21;01mprotobuf\u001B[39;00m \u001B[38;5;28;01mimport\u001B[39;00m config_pb2\n\u001B[1;32m     30\u001B[0m \u001B[38;5;28;01mfrom\u001B[39;00m \u001B[38;5;21;01mtensorflow\u001B[39;00m\u001B[38;5;21;01m.\u001B[39;00m\u001B[38;5;21;01mcore\u001B[39;00m\u001B[38;5;21;01m.\u001B[39;00m\u001B[38;5;21;01mprotobuf\u001B[39;00m \u001B[38;5;28;01mimport\u001B[39;00m rewriter_config_pb2\n",
      "File \u001B[0;32m~/miniforge3/lib/python3.9/site-packages/tensorflow/core/framework/function_pb2.py:5\u001B[0m\n\u001B[1;32m      1\u001B[0m \u001B[38;5;66;03m# -*- coding: utf-8 -*-\u001B[39;00m\n\u001B[1;32m      2\u001B[0m \u001B[38;5;66;03m# Generated by the protocol buffer compiler.  DO NOT EDIT!\u001B[39;00m\n\u001B[1;32m      3\u001B[0m \u001B[38;5;66;03m# source: tensorflow/core/framework/function.proto\u001B[39;00m\n\u001B[1;32m      4\u001B[0m \u001B[38;5;124;03m\"\"\"Generated protocol buffer code.\"\"\"\u001B[39;00m\n\u001B[0;32m----> 5\u001B[0m \u001B[38;5;28;01mfrom\u001B[39;00m \u001B[38;5;21;01mgoogle\u001B[39;00m\u001B[38;5;21;01m.\u001B[39;00m\u001B[38;5;21;01mprotobuf\u001B[39;00m\u001B[38;5;21;01m.\u001B[39;00m\u001B[38;5;21;01minternal\u001B[39;00m \u001B[38;5;28;01mimport\u001B[39;00m builder \u001B[38;5;28;01mas\u001B[39;00m _builder\n\u001B[1;32m      6\u001B[0m \u001B[38;5;28;01mfrom\u001B[39;00m \u001B[38;5;21;01mgoogle\u001B[39;00m\u001B[38;5;21;01m.\u001B[39;00m\u001B[38;5;21;01mprotobuf\u001B[39;00m \u001B[38;5;28;01mimport\u001B[39;00m descriptor \u001B[38;5;28;01mas\u001B[39;00m _descriptor\n\u001B[1;32m      7\u001B[0m \u001B[38;5;28;01mfrom\u001B[39;00m \u001B[38;5;21;01mgoogle\u001B[39;00m\u001B[38;5;21;01m.\u001B[39;00m\u001B[38;5;21;01mprotobuf\u001B[39;00m \u001B[38;5;28;01mimport\u001B[39;00m descriptor_pool \u001B[38;5;28;01mas\u001B[39;00m _descriptor_pool\n",
      "File \u001B[0;32m~/miniforge3/lib/python3.9/site-packages/google/protobuf/internal/builder.py:40\u001B[0m\n\u001B[1;32m     31\u001B[0m \u001B[38;5;124;03m\"\"\"Builds descriptors, message classes and services for generated _pb2.py.\u001B[39;00m\n\u001B[1;32m     32\u001B[0m \n\u001B[1;32m     33\u001B[0m \u001B[38;5;124;03mThis file is only called in python generated _pb2.py files. It builds\u001B[39;00m\n\u001B[1;32m     34\u001B[0m \u001B[38;5;124;03mdescriptors, message classes and services that users can directly use\u001B[39;00m\n\u001B[1;32m     35\u001B[0m \u001B[38;5;124;03min generated code.\u001B[39;00m\n\u001B[1;32m     36\u001B[0m \u001B[38;5;124;03m\"\"\"\u001B[39;00m\n\u001B[1;32m     38\u001B[0m __author__ \u001B[38;5;241m=\u001B[39m \u001B[38;5;124m'\u001B[39m\u001B[38;5;124mjieluo@google.com (Jie Luo)\u001B[39m\u001B[38;5;124m'\u001B[39m\n\u001B[0;32m---> 40\u001B[0m \u001B[38;5;28;01mfrom\u001B[39;00m \u001B[38;5;21;01mgoogle\u001B[39;00m\u001B[38;5;21;01m.\u001B[39;00m\u001B[38;5;21;01mprotobuf\u001B[39;00m\u001B[38;5;21;01m.\u001B[39;00m\u001B[38;5;21;01minternal\u001B[39;00m \u001B[38;5;28;01mimport\u001B[39;00m enum_type_wrapper\n\u001B[1;32m     41\u001B[0m \u001B[38;5;28;01mfrom\u001B[39;00m \u001B[38;5;21;01mgoogle\u001B[39;00m\u001B[38;5;21;01m.\u001B[39;00m\u001B[38;5;21;01mprotobuf\u001B[39;00m \u001B[38;5;28;01mimport\u001B[39;00m message \u001B[38;5;28;01mas\u001B[39;00m _message\n\u001B[1;32m     42\u001B[0m \u001B[38;5;28;01mfrom\u001B[39;00m \u001B[38;5;21;01mgoogle\u001B[39;00m\u001B[38;5;21;01m.\u001B[39;00m\u001B[38;5;21;01mprotobuf\u001B[39;00m \u001B[38;5;28;01mimport\u001B[39;00m reflection \u001B[38;5;28;01mas\u001B[39;00m _reflection\n",
      "\u001B[0;31mImportError\u001B[0m: cannot import name 'enum_type_wrapper' from 'google.protobuf.internal' (unknown location)"
     ]
    }
   ],
   "source": [
    "import tensorflow as tf"
   ],
   "metadata": {
    "collapsed": false,
    "ExecuteTime": {
     "end_time": "2024-03-23T23:04:07.877013Z",
     "start_time": "2024-03-23T23:04:07.706094Z"
    }
   },
   "execution_count": 2
  },
  {
   "cell_type": "code",
   "execution_count": 1,
   "metadata": {
    "ExecuteTime": {
     "end_time": "2024-03-23T23:03:58.564705Z",
     "start_time": "2024-03-23T23:03:57.330245Z"
    }
   },
   "outputs": [
    {
     "ename": "ImportError",
     "evalue": "cannot import name 'enum_type_wrapper' from 'google.protobuf.internal' (unknown location)",
     "output_type": "error",
     "traceback": [
      "\u001B[0;31m---------------------------------------------------------------------------\u001B[0m",
      "\u001B[0;31mImportError\u001B[0m                               Traceback (most recent call last)",
      "Cell \u001B[0;32mIn[1], line 1\u001B[0m\n\u001B[0;32m----> 1\u001B[0m \u001B[38;5;28;01mimport\u001B[39;00m \u001B[38;5;21;01mtensorflow\u001B[39;00m \u001B[38;5;28;01mas\u001B[39;00m \u001B[38;5;21;01mtf\u001B[39;00m\n\u001B[1;32m      2\u001B[0m \u001B[38;5;28;01mimport\u001B[39;00m \u001B[38;5;21;01mnumpy\u001B[39;00m \u001B[38;5;28;01mas\u001B[39;00m \u001B[38;5;21;01mnp\u001B[39;00m\n",
      "File \u001B[0;32m~/miniforge3/lib/python3.9/site-packages/tensorflow/__init__.py:37\u001B[0m\n\u001B[1;32m     34\u001B[0m \u001B[38;5;28;01mimport\u001B[39;00m \u001B[38;5;21;01msys\u001B[39;00m \u001B[38;5;28;01mas\u001B[39;00m \u001B[38;5;21;01m_sys\u001B[39;00m\n\u001B[1;32m     35\u001B[0m \u001B[38;5;28;01mimport\u001B[39;00m \u001B[38;5;21;01mtyping\u001B[39;00m \u001B[38;5;28;01mas\u001B[39;00m \u001B[38;5;21;01m_typing\u001B[39;00m\n\u001B[0;32m---> 37\u001B[0m \u001B[38;5;28;01mfrom\u001B[39;00m \u001B[38;5;21;01mtensorflow\u001B[39;00m\u001B[38;5;21;01m.\u001B[39;00m\u001B[38;5;21;01mpython\u001B[39;00m\u001B[38;5;21;01m.\u001B[39;00m\u001B[38;5;21;01mtools\u001B[39;00m \u001B[38;5;28;01mimport\u001B[39;00m module_util \u001B[38;5;28;01mas\u001B[39;00m _module_util\n\u001B[1;32m     38\u001B[0m \u001B[38;5;28;01mfrom\u001B[39;00m \u001B[38;5;21;01mtensorflow\u001B[39;00m\u001B[38;5;21;01m.\u001B[39;00m\u001B[38;5;21;01mpython\u001B[39;00m\u001B[38;5;21;01m.\u001B[39;00m\u001B[38;5;21;01mutil\u001B[39;00m\u001B[38;5;21;01m.\u001B[39;00m\u001B[38;5;21;01mlazy_loader\u001B[39;00m \u001B[38;5;28;01mimport\u001B[39;00m LazyLoader \u001B[38;5;28;01mas\u001B[39;00m _LazyLoader\n\u001B[1;32m     40\u001B[0m \u001B[38;5;66;03m# Make sure code inside the TensorFlow codebase can use tf2.enabled() at import.\u001B[39;00m\n",
      "File \u001B[0;32m~/miniforge3/lib/python3.9/site-packages/tensorflow/python/__init__.py:37\u001B[0m\n\u001B[1;32m     29\u001B[0m \u001B[38;5;66;03m# We aim to keep this file minimal and ideally remove completely.\u001B[39;00m\n\u001B[1;32m     30\u001B[0m \u001B[38;5;66;03m# If you are adding a new file with @tf_export decorators,\u001B[39;00m\n\u001B[1;32m     31\u001B[0m \u001B[38;5;66;03m# import it in modules_with_exports.py instead.\u001B[39;00m\n\u001B[1;32m     32\u001B[0m \n\u001B[1;32m     33\u001B[0m \u001B[38;5;66;03m# go/tf-wildcard-import\u001B[39;00m\n\u001B[1;32m     34\u001B[0m \u001B[38;5;66;03m# pylint: disable=wildcard-import,g-bad-import-order,g-import-not-at-top\u001B[39;00m\n\u001B[1;32m     36\u001B[0m \u001B[38;5;28;01mfrom\u001B[39;00m \u001B[38;5;21;01mtensorflow\u001B[39;00m\u001B[38;5;21;01m.\u001B[39;00m\u001B[38;5;21;01mpython\u001B[39;00m \u001B[38;5;28;01mimport\u001B[39;00m pywrap_tensorflow \u001B[38;5;28;01mas\u001B[39;00m _pywrap_tensorflow\n\u001B[0;32m---> 37\u001B[0m \u001B[38;5;28;01mfrom\u001B[39;00m \u001B[38;5;21;01mtensorflow\u001B[39;00m\u001B[38;5;21;01m.\u001B[39;00m\u001B[38;5;21;01mpython\u001B[39;00m\u001B[38;5;21;01m.\u001B[39;00m\u001B[38;5;21;01meager\u001B[39;00m \u001B[38;5;28;01mimport\u001B[39;00m context\n\u001B[1;32m     39\u001B[0m \u001B[38;5;66;03m# pylint: enable=wildcard-import\u001B[39;00m\n\u001B[1;32m     40\u001B[0m \n\u001B[1;32m     41\u001B[0m \u001B[38;5;66;03m# Bring in subpackages.\u001B[39;00m\n\u001B[1;32m     42\u001B[0m \u001B[38;5;28;01mfrom\u001B[39;00m \u001B[38;5;21;01mtensorflow\u001B[39;00m\u001B[38;5;21;01m.\u001B[39;00m\u001B[38;5;21;01mpython\u001B[39;00m \u001B[38;5;28;01mimport\u001B[39;00m data\n",
      "File \u001B[0;32m~/miniforge3/lib/python3.9/site-packages/tensorflow/python/eager/context.py:28\u001B[0m\n\u001B[1;32m     25\u001B[0m \u001B[38;5;28;01mfrom\u001B[39;00m \u001B[38;5;21;01mabsl\u001B[39;00m \u001B[38;5;28;01mimport\u001B[39;00m logging\n\u001B[1;32m     26\u001B[0m \u001B[38;5;28;01mimport\u001B[39;00m \u001B[38;5;21;01mnumpy\u001B[39;00m \u001B[38;5;28;01mas\u001B[39;00m \u001B[38;5;21;01mnp\u001B[39;00m\n\u001B[0;32m---> 28\u001B[0m \u001B[38;5;28;01mfrom\u001B[39;00m \u001B[38;5;21;01mtensorflow\u001B[39;00m\u001B[38;5;21;01m.\u001B[39;00m\u001B[38;5;21;01mcore\u001B[39;00m\u001B[38;5;21;01m.\u001B[39;00m\u001B[38;5;21;01mframework\u001B[39;00m \u001B[38;5;28;01mimport\u001B[39;00m function_pb2\n\u001B[1;32m     29\u001B[0m \u001B[38;5;28;01mfrom\u001B[39;00m \u001B[38;5;21;01mtensorflow\u001B[39;00m\u001B[38;5;21;01m.\u001B[39;00m\u001B[38;5;21;01mcore\u001B[39;00m\u001B[38;5;21;01m.\u001B[39;00m\u001B[38;5;21;01mprotobuf\u001B[39;00m \u001B[38;5;28;01mimport\u001B[39;00m config_pb2\n\u001B[1;32m     30\u001B[0m \u001B[38;5;28;01mfrom\u001B[39;00m \u001B[38;5;21;01mtensorflow\u001B[39;00m\u001B[38;5;21;01m.\u001B[39;00m\u001B[38;5;21;01mcore\u001B[39;00m\u001B[38;5;21;01m.\u001B[39;00m\u001B[38;5;21;01mprotobuf\u001B[39;00m \u001B[38;5;28;01mimport\u001B[39;00m rewriter_config_pb2\n",
      "File \u001B[0;32m~/miniforge3/lib/python3.9/site-packages/tensorflow/core/framework/function_pb2.py:5\u001B[0m\n\u001B[1;32m      1\u001B[0m \u001B[38;5;66;03m# -*- coding: utf-8 -*-\u001B[39;00m\n\u001B[1;32m      2\u001B[0m \u001B[38;5;66;03m# Generated by the protocol buffer compiler.  DO NOT EDIT!\u001B[39;00m\n\u001B[1;32m      3\u001B[0m \u001B[38;5;66;03m# source: tensorflow/core/framework/function.proto\u001B[39;00m\n\u001B[1;32m      4\u001B[0m \u001B[38;5;124;03m\"\"\"Generated protocol buffer code.\"\"\"\u001B[39;00m\n\u001B[0;32m----> 5\u001B[0m \u001B[38;5;28;01mfrom\u001B[39;00m \u001B[38;5;21;01mgoogle\u001B[39;00m\u001B[38;5;21;01m.\u001B[39;00m\u001B[38;5;21;01mprotobuf\u001B[39;00m\u001B[38;5;21;01m.\u001B[39;00m\u001B[38;5;21;01minternal\u001B[39;00m \u001B[38;5;28;01mimport\u001B[39;00m builder \u001B[38;5;28;01mas\u001B[39;00m _builder\n\u001B[1;32m      6\u001B[0m \u001B[38;5;28;01mfrom\u001B[39;00m \u001B[38;5;21;01mgoogle\u001B[39;00m\u001B[38;5;21;01m.\u001B[39;00m\u001B[38;5;21;01mprotobuf\u001B[39;00m \u001B[38;5;28;01mimport\u001B[39;00m descriptor \u001B[38;5;28;01mas\u001B[39;00m _descriptor\n\u001B[1;32m      7\u001B[0m \u001B[38;5;28;01mfrom\u001B[39;00m \u001B[38;5;21;01mgoogle\u001B[39;00m\u001B[38;5;21;01m.\u001B[39;00m\u001B[38;5;21;01mprotobuf\u001B[39;00m \u001B[38;5;28;01mimport\u001B[39;00m descriptor_pool \u001B[38;5;28;01mas\u001B[39;00m _descriptor_pool\n",
      "File \u001B[0;32m~/miniforge3/lib/python3.9/site-packages/google/protobuf/internal/builder.py:40\u001B[0m\n\u001B[1;32m     31\u001B[0m \u001B[38;5;124;03m\"\"\"Builds descriptors, message classes and services for generated _pb2.py.\u001B[39;00m\n\u001B[1;32m     32\u001B[0m \n\u001B[1;32m     33\u001B[0m \u001B[38;5;124;03mThis file is only called in python generated _pb2.py files. It builds\u001B[39;00m\n\u001B[1;32m     34\u001B[0m \u001B[38;5;124;03mdescriptors, message classes and services that users can directly use\u001B[39;00m\n\u001B[1;32m     35\u001B[0m \u001B[38;5;124;03min generated code.\u001B[39;00m\n\u001B[1;32m     36\u001B[0m \u001B[38;5;124;03m\"\"\"\u001B[39;00m\n\u001B[1;32m     38\u001B[0m __author__ \u001B[38;5;241m=\u001B[39m \u001B[38;5;124m'\u001B[39m\u001B[38;5;124mjieluo@google.com (Jie Luo)\u001B[39m\u001B[38;5;124m'\u001B[39m\n\u001B[0;32m---> 40\u001B[0m \u001B[38;5;28;01mfrom\u001B[39;00m \u001B[38;5;21;01mgoogle\u001B[39;00m\u001B[38;5;21;01m.\u001B[39;00m\u001B[38;5;21;01mprotobuf\u001B[39;00m\u001B[38;5;21;01m.\u001B[39;00m\u001B[38;5;21;01minternal\u001B[39;00m \u001B[38;5;28;01mimport\u001B[39;00m enum_type_wrapper\n\u001B[1;32m     41\u001B[0m \u001B[38;5;28;01mfrom\u001B[39;00m \u001B[38;5;21;01mgoogle\u001B[39;00m\u001B[38;5;21;01m.\u001B[39;00m\u001B[38;5;21;01mprotobuf\u001B[39;00m \u001B[38;5;28;01mimport\u001B[39;00m message \u001B[38;5;28;01mas\u001B[39;00m _message\n\u001B[1;32m     42\u001B[0m \u001B[38;5;28;01mfrom\u001B[39;00m \u001B[38;5;21;01mgoogle\u001B[39;00m\u001B[38;5;21;01m.\u001B[39;00m\u001B[38;5;21;01mprotobuf\u001B[39;00m \u001B[38;5;28;01mimport\u001B[39;00m reflection \u001B[38;5;28;01mas\u001B[39;00m _reflection\n",
      "\u001B[0;31mImportError\u001B[0m: cannot import name 'enum_type_wrapper' from 'google.protobuf.internal' (unknown location)"
     ]
    }
   ],
   "source": [
    "import numpy as np"
   ]
  },
  {
   "attachments": {},
   "cell_type": "markdown",
   "metadata": {},
   "source": [
    "# Use to generate new data by manipulation\n",
    "\n",
    "## What is this?\n",
    "VAE stands for Variational Auto Encoder. Which means that is trained to reproduce or reconstruct from a latent space the input. Is an strategy to learn that latent space\n",
    "\n",
    "It has 2 important blocks the Encoder wich will be responsable for condensing the data into a low dimensional latent space or just a vector.\n",
    "And the Decoder by taking one point(how do you choose a point? By sampling) from the latent space is able to reconstruct a new image.\n",
    "\n",
    "## How do VAEs build a latent space?\n",
    "That is what difference a VAE from a AE that the V which means variational and allows the VAE to create continuous and structured latent spaces.\n",
    "\n",
    "## How do you sample the latent space?\n",
    "\n",
    "\n",
    "The latent space is structured, non sparse continuous and low dimentional where each direction encode a meanful axis of variation(V) of the data. And that means it can be manipulated with content vectors. Vectors that are isolated and represent a concept.\n",
    "Like the concept of smile another image representation can be added to the smile concept vector then passed to the decoder to create a new image with the person smiling.\n",
    "\n",
    "```There are concept vectors for any independent direction of the latent space```\n",
    "```deeplearning with bayesian inference```\n",
    "\n",
    "## Steps\n",
    "- Build the encoder\n",
    "    - The output will be 2 vectors mean and variance\n",
    "- Build the sampler using a random small vector along with the 2 vectors the encoder will give us\n",
    "    - normal dist value = mean * exp(std) * epsilon / epsilon is a random small vector from the latent space\n",
    "- Build the loss\n",
    "    - kubell-divergence\n",
    "    - reconstruction loss mean already coded in keras\n",
    "- Build the decoder\n",
    "    - the decoder will take the sampled input and reconstruct it to a valid image!"
   ]
  },
  {
   "attachments": {},
   "cell_type": "markdown",
   "metadata": {},
   "source": [
    "# Encoder\n",
    "\n",
    "The encoder will transform the image into 2 parameters vectors that will be used to form a normal distribution, mean_vector and standard_deviation_vector"
   ]
  },
  {
   "cell_type": "code",
   "outputs": [],
   "source": [
    "import os\n",
    "\n",
    "DATASET_BASE_PATH = \"../../datasets\"\n",
    "\n",
    "DATASET_NAME = \"art_images\"\n",
    "\n",
    "FULL_PATH = \"\".join([DATASET_BASE_PATH, os.sep, DATASET_NAME])"
   ],
   "metadata": {
    "collapsed": false,
    "ExecuteTime": {
     "end_time": "2024-03-23T22:17:45.487132Z",
     "start_time": "2024-03-23T22:17:45.484923Z"
    }
   },
   "execution_count": 7
  },
  {
   "cell_type": "code",
   "execution_count": 8,
   "metadata": {
    "ExecuteTime": {
     "end_time": "2024-03-23T22:17:48.003737Z",
     "start_time": "2024-03-23T22:17:47.986814Z"
    }
   },
   "outputs": [
    {
     "ename": "NameError",
     "evalue": "name 'tf' is not defined",
     "output_type": "error",
     "traceback": [
      "\u001B[0;31m---------------------------------------------------------------------------\u001B[0m",
      "\u001B[0;31mNameError\u001B[0m                                 Traceback (most recent call last)",
      "Cell \u001B[0;32mIn[8], line 5\u001B[0m\n\u001B[1;32m      2\u001B[0m IMAGE_OUTPUT_SHAPE \u001B[38;5;241m=\u001B[39m (\u001B[38;5;241m128\u001B[39m, \u001B[38;5;241m128\u001B[39m)\n\u001B[1;32m      3\u001B[0m CHANNELS \u001B[38;5;241m=\u001B[39m \u001B[38;5;241m1\u001B[39m\n\u001B[0;32m----> 5\u001B[0m input_image \u001B[38;5;241m=\u001B[39m \u001B[43mtf\u001B[49m\u001B[38;5;241m.\u001B[39mkeras\u001B[38;5;241m.\u001B[39mutils\u001B[38;5;241m.\u001B[39mimage_dataset_from_directory(FULL_PATH,\n\u001B[1;32m      6\u001B[0m                                                              label_mode\u001B[38;5;241m=\u001B[39m\u001B[38;5;28;01mNone\u001B[39;00m,\n\u001B[1;32m      7\u001B[0m                                                                image_size\u001B[38;5;241m=\u001B[39mIMAGE_INPUT_SHAPE,\n\u001B[1;32m      8\u001B[0m                                                                  batch_size\u001B[38;5;241m=\u001B[39m\u001B[38;5;241m256\u001B[39m,\n\u001B[1;32m      9\u001B[0m                                                                  shuffle\u001B[38;5;241m=\u001B[39m\u001B[38;5;28;01mTrue\u001B[39;00m,\n\u001B[1;32m     10\u001B[0m                                                                  color_mode\u001B[38;5;241m=\u001B[39m\u001B[38;5;124m\"\u001B[39m\u001B[38;5;124mgrayscale\u001B[39m\u001B[38;5;124m\"\u001B[39m,\n\u001B[1;32m     11\u001B[0m                                                                  smart_resize\u001B[38;5;241m=\u001B[39m\u001B[38;5;28;01mTrue\u001B[39;00m)\n\u001B[1;32m     13\u001B[0m output_image \u001B[38;5;241m=\u001B[39m tf\u001B[38;5;241m.\u001B[39mkeras\u001B[38;5;241m.\u001B[39mutils\u001B[38;5;241m.\u001B[39mimage_dataset_from_directory(FULL_PATH,\n\u001B[1;32m     14\u001B[0m                                                              label_mode\u001B[38;5;241m=\u001B[39m\u001B[38;5;28;01mNone\u001B[39;00m,\n\u001B[1;32m     15\u001B[0m                                                                image_size\u001B[38;5;241m=\u001B[39mIMAGE_OUTPUT_SHAPE,\n\u001B[0;32m   (...)\u001B[0m\n\u001B[1;32m     18\u001B[0m                                                                  color_mode\u001B[38;5;241m=\u001B[39m\u001B[38;5;124m\"\u001B[39m\u001B[38;5;124mgrayscale\u001B[39m\u001B[38;5;124m\"\u001B[39m,\n\u001B[1;32m     19\u001B[0m                                                                  smart_resize\u001B[38;5;241m=\u001B[39m\u001B[38;5;28;01mTrue\u001B[39;00m)\n",
      "\u001B[0;31mNameError\u001B[0m: name 'tf' is not defined"
     ]
    }
   ],
   "source": [
    "IMAGE_INPUT_SHAPE = (64, 64)\n",
    "IMAGE_OUTPUT_SHAPE = (128, 128)\n",
    "CHANNELS = 1\n",
    "\n",
    "input_image = tf.keras.utils.image_dataset_from_directory(FULL_PATH,\n",
    "                                                             label_mode=None,\n",
    "                                                               image_size=IMAGE_INPUT_SHAPE,\n",
    "                                                                 batch_size=256,\n",
    "                                                                 shuffle=True,\n",
    "                                                                 color_mode=\"grayscale\",\n",
    "                                                                 smart_resize=True)\n",
    "\n",
    "output_image = tf.keras.utils.image_dataset_from_directory(FULL_PATH,\n",
    "                                                             label_mode=None,\n",
    "                                                               image_size=IMAGE_OUTPUT_SHAPE,\n",
    "                                                                 batch_size=256,\n",
    "                                                                 shuffle=True,\n",
    "                                                                 color_mode=\"grayscale\",\n",
    "                                                                 smart_resize=True)"
   ]
  },
  {
   "cell_type": "code",
   "execution_count": 34,
   "metadata": {},
   "outputs": [
    {
     "data": {
      "text/plain": [
       "<_BatchDataset element_spec=TensorSpec(shape=(None, 64, 64, 1), dtype=tf.float32, name=None)>"
      ]
     },
     "execution_count": 34,
     "metadata": {},
     "output_type": "execute_result"
    }
   ],
   "source": [
    "whole_dataset"
   ]
  },
  {
   "cell_type": "code",
   "execution_count": 35,
   "metadata": {},
   "outputs": [],
   "source": [
    "i = 0\n",
    "for batch in whole_dataset:\n",
    "    for image in batch:\n",
    "        i+=1"
   ]
  },
  {
   "cell_type": "code",
   "execution_count": 36,
   "metadata": {},
   "outputs": [],
   "source": [
    "whole_dataset = whole_dataset.map(lambda x: x/255., num_parallel_calls=tf.data.AUTOTUNE)"
   ]
  },
  {
   "cell_type": "code",
   "execution_count": 37,
   "metadata": {},
   "outputs": [],
   "source": [
    "LATENT_DIMS = 2\n",
    "IMAGE_CHANNELS = 1\n",
    "PROY_DIM = 16 #16\n",
    "# the input is the output of the sample(encoder(image))\n",
    "# CHANNELS_ENCODER_OUTPUT = 256\n",
    "CONVS_NUMBER_ENCODER = 5"
   ]
  },
  {
   "cell_type": "code",
   "execution_count": 38,
   "metadata": {},
   "outputs": [],
   "source": [
    "# I need to use a fix size.. This should not be a limitation in the future.\n",
    "# If I create a class I can surpass that limitation\n",
    "X_input_encoder = tf.keras.Input(shape=(IMAGE_HEIGHT, IMAGE_WIDTH, IMAGE_CHANNELS))\n",
    "filters_decoder = 16\n",
    "\n",
    "# add more convs\n",
    "#Last conv\n",
    "X = tf.keras.layers.Conv2D(filters=filters_decoder, kernel_size=3, activation=\"relu\", strides=2, padding=\"same\")(X_input_encoder)\n",
    "\n",
    "for channel_index in range(CONVS_NUMBER_ENCODER-1):\n",
    "    filters_decoder *= 2\n",
    "    X = tf.keras.layers.Conv2D(filters=filters_decoder, kernel_size=3, activation=\"relu\", strides=2, padding=\"same\")(X)\n",
    "    CHANNELS_ENCODER_OUTPUT = filters_decoder\n",
    "    #Adding more convs diminish kl divergence at first then increases it??\n",
    "\n",
    "X = tf.keras.layers.Flatten()(X)\n",
    "\n",
    "# Try a proyection model sequence latter\n",
    "X = tf.keras.layers.Dense(units=PROY_DIM, activation=\"relu\")(X)\n",
    "# X = tf.keras.Sequential([tf.keras.layers.Dense(units=PROY_DIM, activation=\"relu\"), tf.keras.layers.Dense(units=PROY_DIM)])(X)\n",
    "\n",
    "z_mean = tf.keras.layers.Dense(units=LATENT_DIMS, name=\"z_mean\")(X)\n",
    "z_log_var = tf.keras.layers.Dense(units=LATENT_DIMS, name=\"z_log_var\")(X)\n",
    "\n",
    "encoder = tf.keras.Model(inputs=X_input_encoder, outputs=[z_mean, z_log_var])"
   ]
  },
  {
   "cell_type": "code",
   "execution_count": 39,
   "metadata": {},
   "outputs": [
    {
     "name": "stdout",
     "output_type": "stream",
     "text": [
      "Model: \"model\"\n",
      "__________________________________________________________________________________________________\n",
      " Layer (type)                   Output Shape         Param #     Connected to                     \n",
      "==================================================================================================\n",
      " input_1 (InputLayer)           [(None, 64, 64, 1)]  0           []                               \n",
      "                                                                                                  \n",
      " conv2d (Conv2D)                (None, 32, 32, 16)   160         ['input_1[0][0]']                \n",
      "                                                                                                  \n",
      " conv2d_1 (Conv2D)              (None, 16, 16, 32)   4640        ['conv2d[0][0]']                 \n",
      "                                                                                                  \n",
      " conv2d_2 (Conv2D)              (None, 8, 8, 64)     18496       ['conv2d_1[0][0]']               \n",
      "                                                                                                  \n",
      " conv2d_3 (Conv2D)              (None, 4, 4, 128)    73856       ['conv2d_2[0][0]']               \n",
      "                                                                                                  \n",
      " conv2d_4 (Conv2D)              (None, 2, 2, 256)    295168      ['conv2d_3[0][0]']               \n",
      "                                                                                                  \n",
      " flatten (Flatten)              (None, 1024)         0           ['conv2d_4[0][0]']               \n",
      "                                                                                                  \n",
      " dense (Dense)                  (None, 16)           16400       ['flatten[0][0]']                \n",
      "                                                                                                  \n",
      " z_mean (Dense)                 (None, 2)            34          ['dense[0][0]']                  \n",
      "                                                                                                  \n",
      " z_log_var (Dense)              (None, 2)            34          ['dense[0][0]']                  \n",
      "                                                                                                  \n",
      "==================================================================================================\n",
      "Total params: 408,788\n",
      "Trainable params: 408,788\n",
      "Non-trainable params: 0\n",
      "__________________________________________________________________________________________________\n"
     ]
    }
   ],
   "source": [
    "encoder.summary()"
   ]
  },
  {
   "attachments": {},
   "cell_type": "markdown",
   "metadata": {},
   "source": [
    "# Sampler!\n",
    "\n",
    "We are sampling from a normal distribution\n",
    "\n",
    "normal = mu + exp(sigma) * epsilon\n",
    "\n",
    "epsilon is a random number from a normal distribution"
   ]
  },
  {
   "cell_type": "code",
   "execution_count": 40,
   "metadata": {},
   "outputs": [],
   "source": [
    "class Sampler(tf.keras.layers.Layer):\n",
    "    def call(self, z_mean, z_sigma):\n",
    "        # get the batch size\n",
    "        batch_size = tf.shape(z_mean)[0]\n",
    "        latent_dim = tf.shape(z_mean)[1]\n",
    "\n",
    "        #Epsilon should be the same size as our vectors\n",
    "        # here we are in the training and everything gets processed in batch\n",
    "        epsilon = tf.random.normal(shape=(batch_size, latent_dim))\n",
    "\n",
    "        #This returns a sample point from the distribution we are trying to find.\n",
    "        # A normal distribution\n",
    "        # Why over 2? is that 2 the N elements?\n",
    "        return z_mean + tf.math.exp(z_sigma/2) * epsilon"
   ]
  },
  {
   "attachments": {},
   "cell_type": "markdown",
   "metadata": {},
   "source": [
    "# Decoder"
   ]
  },
  {
   "cell_type": "code",
   "execution_count": 41,
   "metadata": {},
   "outputs": [],
   "source": [
    "import math"
   ]
  },
  {
   "cell_type": "code",
   "execution_count": 42,
   "metadata": {},
   "outputs": [],
   "source": [
    "#Image is 256 but we have 2 transpose layers the image will get upscaled 2 times and we only applied 1 layer of convs with strides 2 \n",
    "# At this point the image is 128 but if we are going to upscale 2 times for the image to be again 256 it should be 64\n",
    "CONVS_NUMBER = 3\n",
    "IMAGE_HEIGHT_DECODE = IMAGE_WIDTH_DECODE = math.ceil(IMAGE_HEIGHT/(2**CONVS_NUMBER))\n",
    "\n",
    "X_input_decoder = tf.keras.Input(shape=(LATENT_DIMS,))\n",
    "\n",
    "X = tf.keras.layers.Dense(units=IMAGE_HEIGHT_DECODE * IMAGE_WIDTH_DECODE * CHANNELS_ENCODER_OUTPUT)(X_input_decoder)\n",
    "X = tf.keras.layers.Reshape((IMAGE_HEIGHT_DECODE, IMAGE_WIDTH_DECODE, CHANNELS_ENCODER_OUTPUT))(X)\n",
    "\n",
    "filters = CHANNELS_ENCODER_OUTPUT\n",
    "for channel_index in range(CONVS_NUMBER):\n",
    "    X = tf.keras.layers.Conv2DTranspose(filters, 3, activation=\"relu\", strides=2, padding=\"same\")(X)\n",
    "    filters = math.ceil(filters/2)\n",
    "\n",
    "X_decoder_output = tf.keras.layers.Conv2D(IMAGE_CHANNELS, 3, activation=\"sigmoid\", padding=\"same\")(X)\n",
    "\n",
    "#X_input_decoder latent input\n",
    "decoder = tf.keras.Model(X_input_decoder, X_decoder_output, name=\"decoder\")"
   ]
  },
  {
   "cell_type": "code",
   "execution_count": 43,
   "metadata": {},
   "outputs": [
    {
     "name": "stdout",
     "output_type": "stream",
     "text": [
      "Model: \"decoder\"\n",
      "_________________________________________________________________\n",
      " Layer (type)                Output Shape              Param #   \n",
      "=================================================================\n",
      " input_2 (InputLayer)        [(None, 2)]               0         \n",
      "                                                                 \n",
      " dense_1 (Dense)             (None, 16384)             49152     \n",
      "                                                                 \n",
      " reshape (Reshape)           (None, 8, 8, 256)         0         \n",
      "                                                                 \n",
      " conv2d_transpose (Conv2DTra  (None, 16, 16, 256)      590080    \n",
      " nspose)                                                         \n",
      "                                                                 \n",
      " conv2d_transpose_1 (Conv2DT  (None, 32, 32, 128)      295040    \n",
      " ranspose)                                                       \n",
      "                                                                 \n",
      " conv2d_transpose_2 (Conv2DT  (None, 64, 64, 64)       73792     \n",
      " ranspose)                                                       \n",
      "                                                                 \n",
      " conv2d_5 (Conv2D)           (None, 64, 64, 1)         577       \n",
      "                                                                 \n",
      "=================================================================\n",
      "Total params: 1,008,641\n",
      "Trainable params: 1,008,641\n",
      "Non-trainable params: 0\n",
      "_________________________________________________________________\n"
     ]
    }
   ],
   "source": [
    "decoder.summary()"
   ]
  },
  {
   "cell_type": "code",
   "execution_count": 44,
   "metadata": {},
   "outputs": [],
   "source": [
    "sample = tf.constant(np.random.normal(size=(8, 5, 4, 1)))"
   ]
  },
  {
   "cell_type": "code",
   "execution_count": 45,
   "metadata": {},
   "outputs": [
    {
     "data": {
      "text/plain": [
       "TensorShape([8, 5, 4, 1])"
      ]
     },
     "execution_count": 45,
     "metadata": {},
     "output_type": "execute_result"
    }
   ],
   "source": [
    "sample.shape"
   ]
  },
  {
   "cell_type": "code",
   "execution_count": 46,
   "metadata": {},
   "outputs": [
    {
     "data": {
      "text/plain": [
       "<tf.Tensor: shape=(8, 1), dtype=float64, numpy=\n",
       "array([[-9.24349543],\n",
       "       [-6.53157088],\n",
       "       [-2.33653475],\n",
       "       [ 2.01187244],\n",
       "       [ 3.40247619],\n",
       "       [ 0.09401621],\n",
       "       [-4.24325604],\n",
       "       [-1.22383544]])>"
      ]
     },
     "execution_count": 46,
     "metadata": {},
     "output_type": "execute_result"
    }
   ],
   "source": [
    "tf.reduce_sum(sample, axis=(1, 2))"
   ]
  },
  {
   "cell_type": "code",
   "execution_count": 47,
   "metadata": {},
   "outputs": [
    {
     "data": {
      "text/plain": [
       "<tf.Tensor: shape=(), dtype=float64, numpy=-2.2587909613984563>"
      ]
     },
     "execution_count": 47,
     "metadata": {},
     "output_type": "execute_result"
    }
   ],
   "source": [
    "tf.reduce_mean(tf.reduce_sum(sample, axis=(1, 2)))"
   ]
  },
  {
   "cell_type": "code",
   "execution_count": 48,
   "metadata": {},
   "outputs": [],
   "source": [
    "class VAE(tf.keras.Model):\n",
    "    def __init__(self, encoder, decoder, sampler, **kwars):\n",
    "        \"\"\" \n",
    "         It has 3 main blocks \n",
    "            - encoder\n",
    "            - decoder\n",
    "            - sampler\n",
    "        \"\"\"\n",
    "        super().__init__(**kwars)\n",
    "        self.encoder = encoder\n",
    "        self.decoder = decoder\n",
    "        self.sampler = sampler\n",
    "\n",
    "        # sum all losses\n",
    "        self.total_loss_tracker = tf.keras.metrics.Mean(name=\"total_flat_loss\")\n",
    "\n",
    "        # how close the reconstructed sample by the decoder is to the original source\n",
    "        self.reconstruction_loss_tracker = tf.keras.metrics.Mean(name=\"reconstruction_loss\")\n",
    "\n",
    "        # divergence from the distribution created to model the latent space and the real one which is a normal distribution\n",
    "        # From where the epsilon point comes from?\n",
    "        self.kl_loss_tracker = tf.keras.metrics.Mean(name=\"kl_loss\")\n",
    "\n",
    "    def call(self, inputs):\n",
    "        z_mean, z_sigma = self.encoder(inputs)\n",
    "        return self.decoder(self.sampler(z_mean, z_sigma))\n",
    "\n",
    "    @property\n",
    "    def metrics(self):\n",
    "        return [self.total_loss_tracker,\n",
    "                self.reconstruction_loss_tracker,\n",
    "                self.kl_loss_tracker]\n",
    "    \n",
    "    def train_step(self, batch_data):\n",
    "        with tf.GradientTape() as tape:\n",
    "            z_mean, z_sigma = self.encoder(batch_data)\n",
    "            sampled_point_z = self.sampler(z_mean, z_sigma)\n",
    "            reconstructed_data = self.decoder(sampled_point_z)\n",
    "\n",
    "            reconstruction_loss = tf.reduce_mean(\n",
    "                # The image needs to be normalized between 0 and 1 for this to make sense\n",
    "                # binary difference between input data and reconstructed\n",
    "                tf.reduce_sum(tf.keras.losses.binary_crossentropy(batch_data, reconstructed_data),\n",
    "                              # sum by sample, reduce the whole row to 1 value\n",
    "                              axis=(1, 2))\n",
    "            )\n",
    "\n",
    "            kl_loss = -0.5 * (1 + z_sigma - tf.math.square(z_mean) - tf.math.exp(z_sigma))\n",
    "\n",
    "            # this adds all 2 losses into one\n",
    "            # how well the input was reconstructed and the distribution difference to create the latent space\n",
    "            total_loss = reconstruction_loss + tf.reduce_mean(kl_loss)\n",
    "\n",
    "        # Standard way to propagate the error signal?\n",
    "        gradients = tape.gradient(total_loss, self.trainable_weights)\n",
    "        # gradients = tape.gradient(total_loss, [z_mean, z_sigma])\n",
    "        self.optimizer.apply_gradients(zip(gradients, self.trainable_weights))\n",
    "        # self.optimizer.apply_gradients(zip(gradients, [z_mean, z_sigma]))\n",
    "\n",
    "        # add and average the loss so far up to this batch\n",
    "        self.total_loss_tracker.update_state(total_loss)\n",
    "        self.reconstruction_loss_tracker.update_state(reconstruction_loss)\n",
    "        self.kl_loss_tracker.update_state(kl_loss)\n",
    "\n",
    "        return {\n",
    "            \"total_loss\": self.total_loss_tracker.result(),\n",
    "            \"reconstruction_loss\": self.reconstruction_loss_tracker.result(),\n",
    "            \"kl_loss\": self.kl_loss_tracker.result()\n",
    "        }\n"
   ]
  },
  {
   "cell_type": "code",
   "execution_count": 49,
   "metadata": {},
   "outputs": [],
   "source": [
    "tf.keras.backend.clear_session()"
   ]
  },
  {
   "cell_type": "code",
   "execution_count": 50,
   "metadata": {},
   "outputs": [],
   "source": [
    "vae = VAE(encoder=encoder, decoder=decoder, sampler=Sampler())"
   ]
  },
  {
   "cell_type": "code",
   "execution_count": 51,
   "metadata": {},
   "outputs": [],
   "source": [
    "vae.compile(optimizer=tf.keras.optimizers.legacy.Adam(), run_eagerly=None)"
   ]
  },
  {
   "attachments": {},
   "cell_type": "markdown",
   "metadata": {},
   "source": [
    "# TODO: add a callback to preview the output of the generator vs the original image"
   ]
  },
  {
   "cell_type": "code",
   "execution_count": 52,
   "metadata": {},
   "outputs": [
    {
     "name": "stdout",
     "output_type": "stream",
     "text": [
      "Epoch 1/300\n",
      "69/69 [==============================] - 13s 178ms/step - total_loss: 2820.9522 - reconstruction_loss: 2804.4683 - kl_loss: 0.7071\n",
      "Epoch 2/300\n",
      "69/69 [==============================] - 13s 187ms/step - total_loss: 2705.9117 - reconstruction_loss: 2685.4678 - kl_loss: 3.3997\n",
      "Epoch 3/300\n",
      "69/69 [==============================] - 13s 191ms/step - total_loss: 2675.6457 - reconstruction_loss: 2670.2405 - kl_loss: 2.9907\n",
      "Epoch 4/300\n",
      "69/69 [==============================] - 13s 190ms/step - total_loss: 2673.0759 - reconstruction_loss: 2669.2046 - kl_loss: 2.9376\n",
      "Epoch 5/300\n",
      "69/69 [==============================] - 14s 193ms/step - total_loss: 2672.3383 - reconstruction_loss: 2668.8513 - kl_loss: 2.9250\n",
      "Epoch 6/300\n",
      "69/69 [==============================] - 14s 192ms/step - total_loss: 2673.1755 - reconstruction_loss: 2668.1179 - kl_loss: 2.8909\n",
      "Epoch 7/300\n",
      "69/69 [==============================] - 13s 189ms/step - total_loss: 2671.4102 - reconstruction_loss: 2668.2061 - kl_loss: 2.8986\n",
      "Epoch 8/300\n",
      "69/69 [==============================] - 13s 189ms/step - total_loss: 2672.1970 - reconstruction_loss: 2667.5098 - kl_loss: 2.8902\n",
      "Epoch 9/300\n",
      "69/69 [==============================] - 14s 195ms/step - total_loss: 2669.7320 - reconstruction_loss: 2667.5234 - kl_loss: 2.8912\n",
      "Epoch 10/300\n",
      "69/69 [==============================] - 14s 200ms/step - total_loss: 2672.4292 - reconstruction_loss: 2666.1606 - kl_loss: 2.9380\n",
      "Epoch 11/300\n",
      "69/69 [==============================] - 14s 201ms/step - total_loss: 2670.5180 - reconstruction_loss: 2664.9463 - kl_loss: 2.9800\n",
      "Epoch 12/300\n",
      "69/69 [==============================] - 14s 200ms/step - total_loss: 2671.3699 - reconstruction_loss: 2664.4619 - kl_loss: 3.0494\n",
      "Epoch 13/300\n",
      "69/69 [==============================] - 14s 201ms/step - total_loss: 2665.6954 - reconstruction_loss: 2662.2891 - kl_loss: 3.0920\n",
      "Epoch 14/300\n",
      "69/69 [==============================] - 14s 195ms/step - total_loss: 2665.6952 - reconstruction_loss: 2660.8235 - kl_loss: 3.1042\n",
      "Epoch 15/300\n",
      "69/69 [==============================] - 13s 185ms/step - total_loss: 2665.2531 - reconstruction_loss: 2659.8220 - kl_loss: 3.1579\n",
      "Epoch 16/300\n",
      "69/69 [==============================] - 13s 183ms/step - total_loss: 2663.2065 - reconstruction_loss: 2657.9688 - kl_loss: 3.1875\n",
      "Epoch 17/300\n",
      "69/69 [==============================] - 13s 188ms/step - total_loss: 2663.6014 - reconstruction_loss: 2658.6060 - kl_loss: 3.1777\n",
      "Epoch 18/300\n",
      "69/69 [==============================] - 14s 201ms/step - total_loss: 2661.3922 - reconstruction_loss: 2655.8577 - kl_loss: 3.2483\n",
      "Epoch 19/300\n",
      "69/69 [==============================] - 14s 197ms/step - total_loss: 2663.5827 - reconstruction_loss: 2660.4543 - kl_loss: 3.3823\n",
      "Epoch 20/300\n",
      "69/69 [==============================] - 14s 201ms/step - total_loss: 2663.3549 - reconstruction_loss: 2656.0076 - kl_loss: 3.2425\n",
      "Epoch 21/300\n",
      "69/69 [==============================] - 14s 195ms/step - total_loss: 2658.0840 - reconstruction_loss: 2653.7922 - kl_loss: 3.3474\n",
      "Epoch 22/300\n",
      "69/69 [==============================] - 13s 191ms/step - total_loss: 2658.9183 - reconstruction_loss: 2653.2688 - kl_loss: 3.3150\n",
      "Epoch 23/300\n",
      "69/69 [==============================] - 14s 196ms/step - total_loss: 2658.1547 - reconstruction_loss: 2655.3596 - kl_loss: 3.3826\n",
      "Epoch 24/300\n",
      "69/69 [==============================] - 14s 195ms/step - total_loss: 2658.7204 - reconstruction_loss: 2652.0542 - kl_loss: 3.3770\n",
      "Epoch 25/300\n",
      "69/69 [==============================] - 14s 198ms/step - total_loss: 2654.7556 - reconstruction_loss: 2651.1921 - kl_loss: 3.4220\n",
      "Epoch 26/300\n",
      "69/69 [==============================] - 14s 202ms/step - total_loss: 2656.2658 - reconstruction_loss: 2651.0371 - kl_loss: 3.4234\n",
      "Epoch 27/300\n",
      "69/69 [==============================] - 14s 196ms/step - total_loss: 2656.8335 - reconstruction_loss: 2651.2700 - kl_loss: 3.4247\n",
      "Epoch 28/300\n",
      "69/69 [==============================] - 14s 197ms/step - total_loss: 2657.2647 - reconstruction_loss: 2651.1514 - kl_loss: 3.4353\n",
      "Epoch 29/300\n",
      "69/69 [==============================] - 14s 197ms/step - total_loss: 2654.8136 - reconstruction_loss: 2650.9280 - kl_loss: 3.4418\n",
      "Epoch 30/300\n",
      "69/69 [==============================] - 14s 193ms/step - total_loss: 2657.4663 - reconstruction_loss: 2650.5859 - kl_loss: 3.5298\n",
      "Epoch 31/300\n",
      "69/69 [==============================] - 13s 190ms/step - total_loss: 2654.2559 - reconstruction_loss: 2649.6323 - kl_loss: 3.5158\n",
      "Epoch 32/300\n",
      "69/69 [==============================] - 13s 189ms/step - total_loss: 2655.0170 - reconstruction_loss: 2649.2188 - kl_loss: 3.4676\n",
      "Epoch 33/300\n",
      "69/69 [==============================] - 14s 193ms/step - total_loss: 2655.9112 - reconstruction_loss: 2652.1392 - kl_loss: 3.4460\n",
      "Epoch 34/300\n",
      "69/69 [==============================] - 14s 192ms/step - total_loss: 2655.3204 - reconstruction_loss: 2648.9976 - kl_loss: 3.5399\n",
      "Epoch 35/300\n",
      "69/69 [==============================] - 13s 189ms/step - total_loss: 2653.3615 - reconstruction_loss: 2647.9290 - kl_loss: 3.5297\n",
      "Epoch 36/300\n",
      "69/69 [==============================] - 13s 187ms/step - total_loss: 2653.7516 - reconstruction_loss: 2648.6096 - kl_loss: 3.5500\n",
      "Epoch 37/300\n",
      "69/69 [==============================] - 13s 186ms/step - total_loss: 2651.3802 - reconstruction_loss: 2646.6042 - kl_loss: 3.5584\n",
      "Epoch 38/300\n",
      "69/69 [==============================] - 13s 186ms/step - total_loss: 2656.7137 - reconstruction_loss: 2648.9746 - kl_loss: 3.5952\n",
      "Epoch 39/300\n",
      "69/69 [==============================] - 13s 188ms/step - total_loss: 2651.8356 - reconstruction_loss: 2647.2595 - kl_loss: 3.6279\n",
      "Epoch 40/300\n",
      "69/69 [==============================] - 13s 186ms/step - total_loss: 2652.0714 - reconstruction_loss: 2649.4766 - kl_loss: 3.7475\n",
      "Epoch 41/300\n",
      "69/69 [==============================] - 13s 183ms/step - total_loss: 2655.1163 - reconstruction_loss: 2648.1536 - kl_loss: 3.5337\n",
      "Epoch 42/300\n",
      "69/69 [==============================] - 14s 194ms/step - total_loss: 2653.3518 - reconstruction_loss: 2648.3103 - kl_loss: 3.6567\n",
      "Epoch 43/300\n",
      "69/69 [==============================] - 14s 198ms/step - total_loss: 2654.3183 - reconstruction_loss: 2649.6506 - kl_loss: 3.6752\n",
      "Epoch 44/300\n",
      "69/69 [==============================] - 13s 189ms/step - total_loss: 2652.6916 - reconstruction_loss: 2646.6204 - kl_loss: 3.5795\n",
      "Epoch 45/300\n",
      "69/69 [==============================] - 13s 182ms/step - total_loss: 2653.1664 - reconstruction_loss: 2647.3484 - kl_loss: 3.7057\n",
      "Epoch 46/300\n",
      "69/69 [==============================] - 13s 183ms/step - total_loss: 2652.0420 - reconstruction_loss: 2645.8481 - kl_loss: 3.6047\n",
      "Epoch 47/300\n",
      "69/69 [==============================] - 14s 195ms/step - total_loss: 2651.8187 - reconstruction_loss: 2648.4080 - kl_loss: 3.6856\n",
      "Epoch 48/300\n",
      "69/69 [==============================] - 14s 198ms/step - total_loss: 2649.0847 - reconstruction_loss: 2643.9380 - kl_loss: 3.5619\n",
      "Epoch 49/300\n",
      "69/69 [==============================] - 14s 195ms/step - total_loss: 2651.7051 - reconstruction_loss: 2646.7024 - kl_loss: 3.7280\n",
      "Epoch 50/300\n",
      "69/69 [==============================] - 14s 198ms/step - total_loss: 2650.4387 - reconstruction_loss: 2645.3750 - kl_loss: 3.6021\n",
      "Epoch 51/300\n",
      "69/69 [==============================] - 14s 197ms/step - total_loss: 2653.3222 - reconstruction_loss: 2646.0859 - kl_loss: 3.6509\n",
      "Epoch 52/300\n",
      "69/69 [==============================] - 14s 195ms/step - total_loss: 2647.5643 - reconstruction_loss: 2642.3887 - kl_loss: 3.6469\n",
      "Epoch 53/300\n",
      "69/69 [==============================] - 13s 184ms/step - total_loss: 2647.0131 - reconstruction_loss: 2641.9319 - kl_loss: 3.6603\n",
      "Epoch 54/300\n",
      "69/69 [==============================] - 13s 184ms/step - total_loss: 2647.5754 - reconstruction_loss: 2641.7451 - kl_loss: 3.6767\n",
      "Epoch 55/300\n",
      "69/69 [==============================] - 13s 182ms/step - total_loss: 2649.9364 - reconstruction_loss: 2643.1858 - kl_loss: 3.7489\n",
      "Epoch 56/300\n",
      "69/69 [==============================] - 13s 182ms/step - total_loss: 2648.7301 - reconstruction_loss: 2644.9619 - kl_loss: 3.7478\n",
      "Epoch 57/300\n",
      "69/69 [==============================] - 13s 184ms/step - total_loss: 2647.3219 - reconstruction_loss: 2641.2244 - kl_loss: 3.6816\n",
      "Epoch 58/300\n",
      "69/69 [==============================] - 13s 182ms/step - total_loss: 2644.6321 - reconstruction_loss: 2639.4011 - kl_loss: 3.7078\n",
      "Epoch 59/300\n",
      "69/69 [==============================] - 13s 181ms/step - total_loss: 2651.2964 - reconstruction_loss: 2645.6646 - kl_loss: 3.7030\n",
      "Epoch 60/300\n",
      "69/69 [==============================] - 13s 180ms/step - total_loss: 2646.2545 - reconstruction_loss: 2639.7532 - kl_loss: 3.6989\n",
      "Epoch 61/300\n",
      "69/69 [==============================] - 13s 179ms/step - total_loss: 2643.9115 - reconstruction_loss: 2637.1284 - kl_loss: 3.6914\n",
      "Epoch 62/300\n",
      "69/69 [==============================] - 13s 183ms/step - total_loss: 2645.7278 - reconstruction_loss: 2641.3005 - kl_loss: 3.8331\n",
      "Epoch 63/300\n",
      "69/69 [==============================] - 13s 180ms/step - total_loss: 2648.3881 - reconstruction_loss: 2640.5686 - kl_loss: 3.7662\n",
      "Epoch 64/300\n",
      "69/69 [==============================] - 13s 180ms/step - total_loss: 2644.2821 - reconstruction_loss: 2639.8750 - kl_loss: 3.7719\n",
      "Epoch 65/300\n",
      "69/69 [==============================] - 13s 183ms/step - total_loss: 2653.8825 - reconstruction_loss: 2644.9751 - kl_loss: 3.9488\n",
      "Epoch 66/300\n",
      "69/69 [==============================] - 13s 180ms/step - total_loss: 2645.7337 - reconstruction_loss: 2639.9858 - kl_loss: 3.8202\n",
      "Epoch 67/300\n",
      "69/69 [==============================] - 13s 183ms/step - total_loss: 2645.6033 - reconstruction_loss: 2638.8157 - kl_loss: 3.7593\n",
      "Epoch 68/300\n",
      "69/69 [==============================] - 13s 180ms/step - total_loss: 2647.7577 - reconstruction_loss: 2641.6362 - kl_loss: 3.9578\n",
      "Epoch 69/300\n",
      "69/69 [==============================] - 13s 192ms/step - total_loss: 2645.4286 - reconstruction_loss: 2640.8877 - kl_loss: 3.8050\n",
      "Epoch 70/300\n",
      "69/69 [==============================] - 13s 186ms/step - total_loss: 2646.6767 - reconstruction_loss: 2639.6331 - kl_loss: 3.7761\n",
      "Epoch 71/300\n",
      "69/69 [==============================] - 12s 177ms/step - total_loss: 2647.5473 - reconstruction_loss: 2641.6934 - kl_loss: 3.7565\n",
      "Epoch 72/300\n",
      "69/69 [==============================] - 12s 174ms/step - total_loss: 2642.9447 - reconstruction_loss: 2637.1475 - kl_loss: 3.7328\n",
      "Epoch 73/300\n",
      "69/69 [==============================] - 12s 170ms/step - total_loss: 2644.7377 - reconstruction_loss: 2638.7581 - kl_loss: 3.7529\n",
      "Epoch 74/300\n",
      "69/69 [==============================] - 12s 170ms/step - total_loss: 2644.8041 - reconstruction_loss: 2637.8369 - kl_loss: 3.7359\n",
      "Epoch 75/300\n",
      "69/69 [==============================] - 12s 169ms/step - total_loss: 2644.0677 - reconstruction_loss: 2637.5056 - kl_loss: 3.6530\n",
      "Epoch 76/300\n",
      "69/69 [==============================] - 12s 170ms/step - total_loss: 2645.5675 - reconstruction_loss: 2639.2297 - kl_loss: 3.8207\n",
      "Epoch 77/300\n",
      "69/69 [==============================] - 12s 169ms/step - total_loss: 2641.4986 - reconstruction_loss: 2635.9104 - kl_loss: 3.7741\n",
      "Epoch 78/300\n",
      "69/69 [==============================] - 12s 170ms/step - total_loss: 2649.3666 - reconstruction_loss: 2640.0676 - kl_loss: 3.8493\n",
      "Epoch 79/300\n",
      "69/69 [==============================] - 12s 169ms/step - total_loss: 2641.7845 - reconstruction_loss: 2636.0593 - kl_loss: 3.7656\n",
      "Epoch 80/300\n",
      "69/69 [==============================] - 12s 170ms/step - total_loss: 2642.2811 - reconstruction_loss: 2639.8679 - kl_loss: 3.7845\n",
      "Epoch 81/300\n",
      "69/69 [==============================] - 12s 169ms/step - total_loss: 2642.9036 - reconstruction_loss: 2635.9688 - kl_loss: 3.8023\n",
      "Epoch 82/300\n",
      "69/69 [==============================] - 12s 170ms/step - total_loss: 2643.2438 - reconstruction_loss: 2635.9324 - kl_loss: 3.7009\n",
      "Epoch 83/300\n",
      "69/69 [==============================] - 12s 170ms/step - total_loss: 2641.5776 - reconstruction_loss: 2636.0698 - kl_loss: 3.8603\n",
      "Epoch 84/300\n",
      "69/69 [==============================] - 12s 170ms/step - total_loss: 2639.7092 - reconstruction_loss: 2635.7639 - kl_loss: 3.6729\n",
      "Epoch 85/300\n",
      "69/69 [==============================] - 12s 170ms/step - total_loss: 2642.2431 - reconstruction_loss: 2636.4382 - kl_loss: 3.6956\n",
      "Epoch 86/300\n",
      "69/69 [==============================] - 12s 170ms/step - total_loss: 2651.9973 - reconstruction_loss: 2644.9792 - kl_loss: 3.9293\n",
      "Epoch 87/300\n",
      "69/69 [==============================] - 12s 170ms/step - total_loss: 2642.1921 - reconstruction_loss: 2637.6790 - kl_loss: 3.6946\n",
      "Epoch 88/300\n",
      "69/69 [==============================] - 12s 170ms/step - total_loss: 2644.6807 - reconstruction_loss: 2639.8755 - kl_loss: 3.7573\n",
      "Epoch 89/300\n",
      "69/69 [==============================] - 12s 170ms/step - total_loss: 2640.1502 - reconstruction_loss: 2634.4807 - kl_loss: 3.7874\n",
      "Epoch 90/300\n",
      "69/69 [==============================] - 12s 170ms/step - total_loss: 2650.4257 - reconstruction_loss: 2641.4968 - kl_loss: 3.7522\n",
      "Epoch 91/300\n",
      "69/69 [==============================] - 12s 170ms/step - total_loss: 2641.3321 - reconstruction_loss: 2636.0417 - kl_loss: 3.6894\n",
      "Epoch 92/300\n",
      "69/69 [==============================] - 12s 170ms/step - total_loss: 2647.8042 - reconstruction_loss: 2640.7747 - kl_loss: 3.8822\n",
      "Epoch 93/300\n",
      "69/69 [==============================] - 12s 170ms/step - total_loss: 2639.6113 - reconstruction_loss: 2633.7437 - kl_loss: 3.7139\n",
      "Epoch 94/300\n",
      "69/69 [==============================] - 12s 170ms/step - total_loss: 2638.1348 - reconstruction_loss: 2635.4026 - kl_loss: 3.7074\n",
      "Epoch 95/300\n",
      "69/69 [==============================] - 12s 171ms/step - total_loss: 2645.7184 - reconstruction_loss: 2640.3518 - kl_loss: 3.7771\n",
      "Epoch 96/300\n",
      "69/69 [==============================] - 12s 170ms/step - total_loss: 2643.0583 - reconstruction_loss: 2635.6008 - kl_loss: 3.8819\n",
      "Epoch 97/300\n",
      "69/69 [==============================] - 12s 170ms/step - total_loss: 2640.5974 - reconstruction_loss: 2636.9070 - kl_loss: 3.8902\n",
      "Epoch 98/300\n",
      "69/69 [==============================] - 12s 170ms/step - total_loss: 2641.5685 - reconstruction_loss: 2633.2668 - kl_loss: 3.7512\n",
      "Epoch 99/300\n",
      "69/69 [==============================] - 12s 170ms/step - total_loss: 2636.1203 - reconstruction_loss: 2632.0195 - kl_loss: 3.7985\n",
      "Epoch 100/300\n",
      "69/69 [==============================] - 12s 170ms/step - total_loss: 2639.0735 - reconstruction_loss: 2633.2908 - kl_loss: 3.7734\n",
      "Epoch 101/300\n",
      "69/69 [==============================] - 12s 170ms/step - total_loss: 2638.5859 - reconstruction_loss: 2632.7686 - kl_loss: 3.7929\n",
      "Epoch 102/300\n",
      "69/69 [==============================] - 12s 171ms/step - total_loss: 2636.8916 - reconstruction_loss: 2632.2886 - kl_loss: 3.7812\n",
      "Epoch 103/300\n",
      "69/69 [==============================] - 12s 170ms/step - total_loss: 2635.8032 - reconstruction_loss: 2632.0125 - kl_loss: 3.7353\n",
      "Epoch 104/300\n",
      "69/69 [==============================] - 12s 170ms/step - total_loss: 2648.8907 - reconstruction_loss: 2648.6943 - kl_loss: 4.1690\n",
      "Epoch 105/300\n",
      "69/69 [==============================] - 12s 170ms/step - total_loss: 2648.3389 - reconstruction_loss: 2643.3228 - kl_loss: 3.8504\n",
      "Epoch 106/300\n",
      "69/69 [==============================] - 12s 170ms/step - total_loss: 2648.4357 - reconstruction_loss: 2642.6477 - kl_loss: 3.8044\n",
      "Epoch 107/300\n",
      "69/69 [==============================] - 12s 170ms/step - total_loss: 2640.7875 - reconstruction_loss: 2634.9165 - kl_loss: 3.8453\n",
      "Epoch 108/300\n",
      "69/69 [==============================] - 12s 169ms/step - total_loss: 2639.1850 - reconstruction_loss: 2632.0254 - kl_loss: 3.7620\n",
      "Epoch 109/300\n",
      "69/69 [==============================] - 12s 170ms/step - total_loss: 2640.3264 - reconstruction_loss: 2635.1296 - kl_loss: 3.8657\n",
      "Epoch 110/300\n",
      "69/69 [==============================] - 12s 169ms/step - total_loss: 2636.2413 - reconstruction_loss: 2630.8479 - kl_loss: 3.7707\n",
      "Epoch 111/300\n",
      "69/69 [==============================] - 12s 170ms/step - total_loss: 2637.9662 - reconstruction_loss: 2632.2268 - kl_loss: 3.8439\n",
      "Epoch 112/300\n",
      "69/69 [==============================] - 12s 169ms/step - total_loss: 2639.9980 - reconstruction_loss: 2632.9172 - kl_loss: 3.8934\n",
      "Epoch 113/300\n",
      "69/69 [==============================] - 12s 170ms/step - total_loss: 2638.3117 - reconstruction_loss: 2631.9453 - kl_loss: 3.8096\n",
      "Epoch 114/300\n",
      "69/69 [==============================] - 12s 170ms/step - total_loss: 2635.2586 - reconstruction_loss: 2629.9795 - kl_loss: 3.8178\n",
      "Epoch 115/300\n",
      "69/69 [==============================] - 12s 170ms/step - total_loss: 2637.3382 - reconstruction_loss: 2631.7317 - kl_loss: 3.8139\n",
      "Epoch 116/300\n",
      "69/69 [==============================] - 12s 170ms/step - total_loss: 2637.1145 - reconstruction_loss: 2631.7097 - kl_loss: 3.8128\n",
      "Epoch 117/300\n",
      "69/69 [==============================] - 12s 170ms/step - total_loss: 2635.6579 - reconstruction_loss: 2630.5767 - kl_loss: 3.8598\n",
      "Epoch 118/300\n",
      "69/69 [==============================] - 12s 170ms/step - total_loss: 2634.7462 - reconstruction_loss: 2630.4539 - kl_loss: 3.7953\n",
      "Epoch 119/300\n",
      "69/69 [==============================] - 12s 170ms/step - total_loss: 2635.1071 - reconstruction_loss: 2629.1289 - kl_loss: 3.8694\n",
      "Epoch 120/300\n",
      "69/69 [==============================] - 12s 170ms/step - total_loss: 2633.7703 - reconstruction_loss: 2630.0447 - kl_loss: 3.8748\n",
      "Epoch 121/300\n",
      "69/69 [==============================] - 12s 170ms/step - total_loss: 2638.2992 - reconstruction_loss: 2631.2253 - kl_loss: 3.8968\n",
      "Epoch 122/300\n",
      "69/69 [==============================] - 12s 170ms/step - total_loss: 2634.3511 - reconstruction_loss: 2630.3687 - kl_loss: 3.8928\n",
      "Epoch 123/300\n",
      "69/69 [==============================] - 12s 170ms/step - total_loss: 2635.3572 - reconstruction_loss: 2628.8623 - kl_loss: 3.9067\n",
      "Epoch 124/300\n",
      "69/69 [==============================] - 12s 170ms/step - total_loss: 2635.2073 - reconstruction_loss: 2629.9019 - kl_loss: 3.8841\n",
      "Epoch 125/300\n",
      "69/69 [==============================] - 12s 170ms/step - total_loss: 2637.7996 - reconstruction_loss: 2632.3118 - kl_loss: 3.8803\n",
      "Epoch 126/300\n",
      "69/69 [==============================] - 12s 170ms/step - total_loss: 2636.1027 - reconstruction_loss: 2629.8086 - kl_loss: 3.8892\n",
      "Epoch 127/300\n",
      "69/69 [==============================] - 12s 170ms/step - total_loss: 2638.4644 - reconstruction_loss: 2633.5391 - kl_loss: 3.9021\n",
      "Epoch 128/300\n",
      "69/69 [==============================] - 12s 170ms/step - total_loss: 2635.7215 - reconstruction_loss: 2630.3979 - kl_loss: 3.8216\n",
      "Epoch 129/300\n",
      "69/69 [==============================] - 12s 170ms/step - total_loss: 2635.6891 - reconstruction_loss: 2630.5613 - kl_loss: 3.8461\n",
      "Epoch 130/300\n",
      "69/69 [==============================] - 12s 170ms/step - total_loss: 2634.9934 - reconstruction_loss: 2629.9790 - kl_loss: 3.8234\n",
      "Epoch 131/300\n",
      "69/69 [==============================] - 12s 170ms/step - total_loss: 2639.8522 - reconstruction_loss: 2631.0671 - kl_loss: 3.8344\n",
      "Epoch 132/300\n",
      "69/69 [==============================] - 12s 173ms/step - total_loss: 2632.9248 - reconstruction_loss: 2628.2725 - kl_loss: 3.8771\n",
      "Epoch 133/300\n",
      "69/69 [==============================] - 12s 171ms/step - total_loss: 2633.2177 - reconstruction_loss: 2629.2722 - kl_loss: 3.8278\n",
      "Epoch 134/300\n",
      "69/69 [==============================] - 12s 170ms/step - total_loss: 2635.8930 - reconstruction_loss: 2629.8516 - kl_loss: 3.9028\n",
      "Epoch 135/300\n",
      "69/69 [==============================] - 12s 171ms/step - total_loss: 2646.6094 - reconstruction_loss: 2643.2283 - kl_loss: 4.0940\n",
      "Epoch 136/300\n",
      "69/69 [==============================] - 12s 170ms/step - total_loss: 2650.0081 - reconstruction_loss: 2644.5168 - kl_loss: 3.9649\n",
      "Epoch 137/300\n",
      "69/69 [==============================] - 12s 170ms/step - total_loss: 2644.6517 - reconstruction_loss: 2638.3494 - kl_loss: 3.8271\n",
      "Epoch 138/300\n",
      "69/69 [==============================] - 12s 170ms/step - total_loss: 2647.1265 - reconstruction_loss: 2641.7925 - kl_loss: 3.8332\n",
      "Epoch 139/300\n",
      "69/69 [==============================] - 12s 170ms/step - total_loss: 2643.2677 - reconstruction_loss: 2635.7554 - kl_loss: 3.7721\n",
      "Epoch 140/300\n",
      "69/69 [==============================] - 12s 170ms/step - total_loss: 2640.0658 - reconstruction_loss: 2632.4082 - kl_loss: 3.8565\n",
      "Epoch 141/300\n",
      "69/69 [==============================] - 12s 171ms/step - total_loss: 2640.8091 - reconstruction_loss: 2633.9565 - kl_loss: 3.8705\n",
      "Epoch 142/300\n",
      "69/69 [==============================] - 12s 172ms/step - total_loss: 2636.3828 - reconstruction_loss: 2630.4131 - kl_loss: 3.8806\n",
      "Epoch 143/300\n",
      "69/69 [==============================] - 12s 173ms/step - total_loss: 2640.9740 - reconstruction_loss: 2634.2642 - kl_loss: 3.9393\n",
      "Epoch 144/300\n",
      "69/69 [==============================] - 12s 171ms/step - total_loss: 2639.1528 - reconstruction_loss: 2633.3062 - kl_loss: 3.9151\n",
      "Epoch 145/300\n",
      "69/69 [==============================] - 12s 173ms/step - total_loss: 2638.6439 - reconstruction_loss: 2633.5647 - kl_loss: 3.8052\n",
      "Epoch 146/300\n",
      "69/69 [==============================] - 12s 174ms/step - total_loss: 2638.2677 - reconstruction_loss: 2633.7566 - kl_loss: 3.8912\n",
      "Epoch 147/300\n",
      "69/69 [==============================] - 12s 172ms/step - total_loss: 2638.1538 - reconstruction_loss: 2635.5413 - kl_loss: 3.8104\n",
      "Epoch 148/300\n",
      "69/69 [==============================] - 12s 171ms/step - total_loss: 2638.1967 - reconstruction_loss: 2630.7336 - kl_loss: 3.9190\n",
      "Epoch 149/300\n",
      "69/69 [==============================] - 12s 171ms/step - total_loss: 2637.5226 - reconstruction_loss: 2631.3618 - kl_loss: 3.8787\n",
      "Epoch 150/300\n",
      "69/69 [==============================] - 12s 173ms/step - total_loss: 2635.7071 - reconstruction_loss: 2629.7061 - kl_loss: 3.8272\n",
      "Epoch 151/300\n",
      "69/69 [==============================] - 12s 173ms/step - total_loss: 2638.3645 - reconstruction_loss: 2634.9302 - kl_loss: 3.7578\n",
      "Epoch 152/300\n",
      "69/69 [==============================] - 12s 173ms/step - total_loss: 2641.2272 - reconstruction_loss: 2634.7925 - kl_loss: 3.7156\n",
      "Epoch 153/300\n",
      "69/69 [==============================] - 12s 172ms/step - total_loss: 2635.8617 - reconstruction_loss: 2630.3389 - kl_loss: 3.9071\n",
      "Epoch 154/300\n",
      "69/69 [==============================] - 13s 180ms/step - total_loss: 2633.3938 - reconstruction_loss: 2629.2007 - kl_loss: 3.9807\n",
      "Epoch 155/300\n",
      "69/69 [==============================] - 13s 182ms/step - total_loss: 2634.4927 - reconstruction_loss: 2629.3315 - kl_loss: 3.8262\n",
      "Epoch 156/300\n",
      "69/69 [==============================] - 13s 180ms/step - total_loss: 2644.0065 - reconstruction_loss: 2644.4106 - kl_loss: 4.0288\n",
      "Epoch 157/300\n",
      "69/69 [==============================] - 13s 187ms/step - total_loss: 2649.5267 - reconstruction_loss: 2635.6992 - kl_loss: 3.8395\n",
      "Epoch 158/300\n",
      "69/69 [==============================] - 14s 193ms/step - total_loss: 2638.6082 - reconstruction_loss: 2631.4265 - kl_loss: 3.9825\n",
      "Epoch 159/300\n",
      "69/69 [==============================] - 14s 191ms/step - total_loss: 2633.7402 - reconstruction_loss: 2629.7769 - kl_loss: 3.8328\n",
      "Epoch 160/300\n",
      "69/69 [==============================] - 13s 187ms/step - total_loss: 2647.1113 - reconstruction_loss: 2645.8159 - kl_loss: 4.0904\n",
      "Epoch 161/300\n",
      "69/69 [==============================] - 13s 184ms/step - total_loss: 2649.6642 - reconstruction_loss: 2645.1619 - kl_loss: 4.0275\n",
      "Epoch 162/300\n",
      "69/69 [==============================] - 13s 178ms/step - total_loss: 2645.0759 - reconstruction_loss: 2636.6326 - kl_loss: 3.8652\n",
      "Epoch 163/300\n",
      "69/69 [==============================] - 13s 178ms/step - total_loss: 2637.8825 - reconstruction_loss: 2631.1272 - kl_loss: 3.8764\n",
      "Epoch 164/300\n",
      "69/69 [==============================] - 13s 178ms/step - total_loss: 2634.2274 - reconstruction_loss: 2628.4797 - kl_loss: 3.8503\n",
      "Epoch 165/300\n",
      "69/69 [==============================] - 13s 179ms/step - total_loss: 2635.2479 - reconstruction_loss: 2630.0610 - kl_loss: 3.8221\n",
      "Epoch 166/300\n",
      "69/69 [==============================] - 13s 178ms/step - total_loss: 2633.0190 - reconstruction_loss: 2627.8694 - kl_loss: 3.7798\n",
      "Epoch 167/300\n",
      "69/69 [==============================] - 13s 179ms/step - total_loss: 2636.7430 - reconstruction_loss: 2629.3105 - kl_loss: 3.8428\n",
      "Epoch 168/300\n",
      "69/69 [==============================] - 13s 179ms/step - total_loss: 2634.7661 - reconstruction_loss: 2629.7632 - kl_loss: 3.9246\n",
      "Epoch 169/300\n",
      "69/69 [==============================] - 13s 181ms/step - total_loss: 2644.2824 - reconstruction_loss: 2635.3503 - kl_loss: 3.8424\n",
      "Epoch 170/300\n",
      "69/69 [==============================] - 13s 178ms/step - total_loss: 2639.8681 - reconstruction_loss: 2634.3154 - kl_loss: 3.8465\n",
      "Epoch 171/300\n",
      "69/69 [==============================] - 13s 183ms/step - total_loss: 2639.2631 - reconstruction_loss: 2636.0054 - kl_loss: 3.8334\n",
      "Epoch 172/300\n",
      "69/69 [==============================] - 13s 185ms/step - total_loss: 2649.3976 - reconstruction_loss: 2640.8396 - kl_loss: 3.9050\n",
      "Epoch 173/300\n",
      "69/69 [==============================] - 13s 181ms/step - total_loss: 2637.9359 - reconstruction_loss: 2631.4668 - kl_loss: 3.8554\n",
      "Epoch 174/300\n",
      "69/69 [==============================] - 12s 176ms/step - total_loss: 2638.8370 - reconstruction_loss: 2630.6880 - kl_loss: 3.8091\n",
      "Epoch 175/300\n",
      "69/69 [==============================] - 13s 179ms/step - total_loss: 2635.9603 - reconstruction_loss: 2629.5198 - kl_loss: 3.8711\n",
      "Epoch 176/300\n",
      "69/69 [==============================] - 12s 175ms/step - total_loss: 2633.8508 - reconstruction_loss: 2628.8860 - kl_loss: 3.8658\n",
      "Epoch 177/300\n",
      "69/69 [==============================] - 13s 177ms/step - total_loss: 2635.7831 - reconstruction_loss: 2631.1604 - kl_loss: 3.8853\n",
      "Epoch 178/300\n",
      "69/69 [==============================] - 12s 176ms/step - total_loss: 2639.1079 - reconstruction_loss: 2632.9092 - kl_loss: 3.8977\n",
      "Epoch 179/300\n",
      "69/69 [==============================] - 13s 186ms/step - total_loss: 2634.5431 - reconstruction_loss: 2629.8179 - kl_loss: 3.8690\n",
      "Epoch 180/300\n",
      "69/69 [==============================] - 13s 181ms/step - total_loss: 2635.0299 - reconstruction_loss: 2630.0569 - kl_loss: 3.7527\n",
      "Epoch 181/300\n",
      "69/69 [==============================] - 13s 180ms/step - total_loss: 2634.4896 - reconstruction_loss: 2628.2766 - kl_loss: 3.7728\n",
      "Epoch 182/300\n",
      "69/69 [==============================] - 13s 181ms/step - total_loss: 2634.2453 - reconstruction_loss: 2629.5161 - kl_loss: 3.8901\n",
      "Epoch 183/300\n",
      "69/69 [==============================] - 13s 183ms/step - total_loss: 2634.5104 - reconstruction_loss: 2631.1868 - kl_loss: 3.8103\n",
      "Epoch 184/300\n",
      "69/69 [==============================] - 13s 182ms/step - total_loss: 2639.1532 - reconstruction_loss: 2637.2639 - kl_loss: 4.0153\n",
      "Epoch 185/300\n",
      "69/69 [==============================] - 13s 185ms/step - total_loss: 2665.9479 - reconstruction_loss: 2669.8308 - kl_loss: 4.6256\n",
      "Epoch 186/300\n",
      "69/69 [==============================] - 13s 185ms/step - total_loss: 2656.8937 - reconstruction_loss: 2645.1238 - kl_loss: 4.1934\n",
      "Epoch 187/300\n",
      "69/69 [==============================] - 13s 181ms/step - total_loss: 2639.2803 - reconstruction_loss: 2634.7395 - kl_loss: 3.9317\n",
      "Epoch 188/300\n",
      "69/69 [==============================] - 13s 184ms/step - total_loss: 2642.4124 - reconstruction_loss: 2636.0383 - kl_loss: 3.9174\n",
      "Epoch 189/300\n",
      "69/69 [==============================] - 13s 184ms/step - total_loss: 2644.2636 - reconstruction_loss: 2635.9680 - kl_loss: 3.8709\n",
      "Epoch 190/300\n",
      "69/69 [==============================] - 13s 185ms/step - total_loss: 2635.6388 - reconstruction_loss: 2631.9031 - kl_loss: 3.9937\n",
      "Epoch 191/300\n",
      "69/69 [==============================] - 13s 186ms/step - total_loss: 2645.2230 - reconstruction_loss: 2639.3479 - kl_loss: 4.1054\n",
      "Epoch 192/300\n",
      "69/69 [==============================] - 13s 184ms/step - total_loss: 2641.4703 - reconstruction_loss: 2635.6174 - kl_loss: 3.8920\n",
      "Epoch 193/300\n",
      "69/69 [==============================] - 13s 180ms/step - total_loss: 2639.3678 - reconstruction_loss: 2633.0544 - kl_loss: 3.7952\n",
      "Epoch 194/300\n",
      "69/69 [==============================] - 13s 184ms/step - total_loss: 2636.4708 - reconstruction_loss: 2630.6082 - kl_loss: 3.8054\n",
      "Epoch 195/300\n",
      "69/69 [==============================] - 13s 191ms/step - total_loss: 2642.5819 - reconstruction_loss: 2638.8044 - kl_loss: 4.0927\n",
      "Epoch 196/300\n",
      "69/69 [==============================] - 13s 188ms/step - total_loss: 2652.4591 - reconstruction_loss: 2648.9138 - kl_loss: 4.3640\n",
      "Epoch 197/300\n",
      "69/69 [==============================] - 13s 185ms/step - total_loss: 2663.7708 - reconstruction_loss: 2656.0110 - kl_loss: 4.4344\n",
      "Epoch 198/300\n",
      "69/69 [==============================] - 13s 186ms/step - total_loss: 2659.1380 - reconstruction_loss: 2655.4148 - kl_loss: 4.4754\n",
      "Epoch 199/300\n",
      "69/69 [==============================] - 13s 186ms/step - total_loss: 2667.4591 - reconstruction_loss: 2655.3452 - kl_loss: 4.6482\n",
      "Epoch 200/300\n",
      "69/69 [==============================] - 13s 185ms/step - total_loss: 2651.1722 - reconstruction_loss: 2646.0952 - kl_loss: 4.2535\n",
      "Epoch 201/300\n",
      "69/69 [==============================] - 13s 180ms/step - total_loss: 2649.5381 - reconstruction_loss: 2643.4121 - kl_loss: 4.2452\n",
      "Epoch 202/300\n",
      "69/69 [==============================] - 13s 182ms/step - total_loss: 2645.6197 - reconstruction_loss: 2639.9866 - kl_loss: 4.2448\n",
      "Epoch 203/300\n",
      "69/69 [==============================] - 13s 180ms/step - total_loss: 2644.4326 - reconstruction_loss: 2638.1672 - kl_loss: 4.0682\n",
      "Epoch 204/300\n",
      "69/69 [==============================] - 13s 181ms/step - total_loss: 2640.2034 - reconstruction_loss: 2637.3127 - kl_loss: 3.8066\n",
      "Epoch 205/300\n",
      "69/69 [==============================] - 13s 181ms/step - total_loss: 2638.9480 - reconstruction_loss: 2631.4277 - kl_loss: 3.6897\n",
      "Epoch 206/300\n",
      "69/69 [==============================] - 13s 178ms/step - total_loss: 2634.9968 - reconstruction_loss: 2628.5388 - kl_loss: 3.7855\n",
      "Epoch 207/300\n",
      "69/69 [==============================] - 13s 183ms/step - total_loss: 2635.2920 - reconstruction_loss: 2629.6326 - kl_loss: 3.8254\n",
      "Epoch 208/300\n",
      "69/69 [==============================] - 13s 182ms/step - total_loss: 2634.2034 - reconstruction_loss: 2628.4683 - kl_loss: 3.8332\n",
      "Epoch 209/300\n",
      "69/69 [==============================] - 13s 179ms/step - total_loss: 2635.5509 - reconstruction_loss: 2628.4412 - kl_loss: 3.8910\n",
      "Epoch 210/300\n",
      "69/69 [==============================] - 13s 179ms/step - total_loss: 2633.0997 - reconstruction_loss: 2628.4329 - kl_loss: 3.9064\n",
      "Epoch 211/300\n",
      "69/69 [==============================] - 13s 182ms/step - total_loss: 2633.5066 - reconstruction_loss: 2627.6628 - kl_loss: 3.8708\n",
      "Epoch 212/300\n",
      "69/69 [==============================] - 13s 184ms/step - total_loss: 2634.2986 - reconstruction_loss: 2628.6619 - kl_loss: 3.8933\n",
      "Epoch 213/300\n",
      "69/69 [==============================] - 13s 183ms/step - total_loss: 2638.0948 - reconstruction_loss: 2631.2551 - kl_loss: 4.0211\n",
      "Epoch 214/300\n",
      "69/69 [==============================] - 13s 181ms/step - total_loss: 2637.0973 - reconstruction_loss: 2631.3940 - kl_loss: 3.9851\n",
      "Epoch 215/300\n",
      "69/69 [==============================] - 13s 183ms/step - total_loss: 2637.6371 - reconstruction_loss: 2632.7144 - kl_loss: 3.9385\n",
      "Epoch 216/300\n",
      "69/69 [==============================] - 13s 181ms/step - total_loss: 2634.4300 - reconstruction_loss: 2630.6243 - kl_loss: 4.0928\n",
      "Epoch 217/300\n",
      "69/69 [==============================] - 13s 182ms/step - total_loss: 2635.7529 - reconstruction_loss: 2629.2134 - kl_loss: 4.0506\n",
      "Epoch 218/300\n",
      "69/69 [==============================] - 13s 182ms/step - total_loss: 2635.3554 - reconstruction_loss: 2631.8215 - kl_loss: 4.2175\n",
      "Epoch 219/300\n",
      "69/69 [==============================] - 13s 180ms/step - total_loss: 2640.9541 - reconstruction_loss: 2635.0544 - kl_loss: 4.1640\n",
      "Epoch 220/300\n",
      "69/69 [==============================] - 13s 186ms/step - total_loss: 2645.7560 - reconstruction_loss: 2641.2454 - kl_loss: 3.9678\n",
      "Epoch 221/300\n",
      "69/69 [==============================] - 13s 186ms/step - total_loss: 2638.6460 - reconstruction_loss: 2634.4766 - kl_loss: 4.0334\n",
      "Epoch 222/300\n",
      "69/69 [==============================] - 13s 189ms/step - total_loss: 2640.9126 - reconstruction_loss: 2635.4856 - kl_loss: 4.1626\n",
      "Epoch 223/300\n",
      "69/69 [==============================] - 13s 184ms/step - total_loss: 2647.0082 - reconstruction_loss: 2640.3743 - kl_loss: 4.4587\n",
      "Epoch 224/300\n",
      "69/69 [==============================] - 13s 183ms/step - total_loss: 2649.8914 - reconstruction_loss: 2646.5823 - kl_loss: 4.2952\n",
      "Epoch 225/300\n",
      "69/69 [==============================] - 13s 180ms/step - total_loss: 2650.3173 - reconstruction_loss: 2644.0393 - kl_loss: 4.1114\n",
      "Epoch 226/300\n",
      "69/69 [==============================] - 13s 183ms/step - total_loss: 2646.3154 - reconstruction_loss: 2641.3765 - kl_loss: 3.9985\n",
      "Epoch 227/300\n",
      "69/69 [==============================] - 13s 182ms/step - total_loss: 2642.8106 - reconstruction_loss: 2637.6667 - kl_loss: 4.0726\n",
      "Epoch 228/300\n",
      "69/69 [==============================] - 13s 178ms/step - total_loss: 2643.8603 - reconstruction_loss: 2641.1772 - kl_loss: 4.8933\n",
      "Epoch 229/300\n",
      "69/69 [==============================] - 13s 182ms/step - total_loss: 2647.4514 - reconstruction_loss: 2639.6641 - kl_loss: 4.6223\n",
      "Epoch 230/300\n",
      "69/69 [==============================] - 13s 181ms/step - total_loss: 2643.4656 - reconstruction_loss: 2636.3650 - kl_loss: 4.1176\n",
      "Epoch 231/300\n",
      "69/69 [==============================] - 12s 176ms/step - total_loss: 2641.3326 - reconstruction_loss: 2635.9817 - kl_loss: 3.9944\n",
      "Epoch 232/300\n",
      "69/69 [==============================] - 13s 183ms/step - total_loss: 2642.5617 - reconstruction_loss: 2635.9021 - kl_loss: 3.9801\n",
      "Epoch 233/300\n",
      "69/69 [==============================] - 13s 182ms/step - total_loss: 2640.6683 - reconstruction_loss: 2635.6526 - kl_loss: 4.0763\n",
      "Epoch 234/300\n",
      "69/69 [==============================] - 13s 178ms/step - total_loss: 2643.0682 - reconstruction_loss: 2638.3894 - kl_loss: 4.1371\n",
      "Epoch 235/300\n",
      "69/69 [==============================] - 13s 179ms/step - total_loss: 2646.4423 - reconstruction_loss: 2640.9097 - kl_loss: 4.2908\n",
      "Epoch 236/300\n",
      "69/69 [==============================] - 13s 182ms/step - total_loss: 2644.2794 - reconstruction_loss: 2638.8484 - kl_loss: 4.1179\n",
      "Epoch 237/300\n",
      "69/69 [==============================] - 13s 183ms/step - total_loss: 2644.7255 - reconstruction_loss: 2639.2437 - kl_loss: 4.1185\n",
      "Epoch 238/300\n",
      "69/69 [==============================] - 13s 182ms/step - total_loss: 2640.8379 - reconstruction_loss: 2636.1377 - kl_loss: 4.1520\n",
      "Epoch 239/300\n",
      "69/69 [==============================] - 13s 183ms/step - total_loss: 2643.7982 - reconstruction_loss: 2637.7710 - kl_loss: 4.3423\n",
      "Epoch 240/300\n",
      "69/69 [==============================] - 13s 179ms/step - total_loss: 2644.3155 - reconstruction_loss: 2639.3430 - kl_loss: 4.1951\n",
      "Epoch 241/300\n",
      "69/69 [==============================] - 13s 180ms/step - total_loss: 2646.6993 - reconstruction_loss: 2639.5735 - kl_loss: 4.0282\n",
      "Epoch 242/300\n",
      "69/69 [==============================] - 13s 178ms/step - total_loss: 2642.6013 - reconstruction_loss: 2637.5322 - kl_loss: 3.9411\n",
      "Epoch 243/300\n",
      "69/69 [==============================] - 13s 183ms/step - total_loss: 2642.2284 - reconstruction_loss: 2636.3789 - kl_loss: 3.8334\n",
      "Epoch 244/300\n",
      "69/69 [==============================] - 13s 183ms/step - total_loss: 2665.6710 - reconstruction_loss: 2677.3872 - kl_loss: 3.6503\n",
      "Epoch 245/300\n",
      "69/69 [==============================] - 13s 179ms/step - total_loss: 2672.2074 - reconstruction_loss: 2651.3325 - kl_loss: 4.3463\n",
      "Epoch 246/300\n",
      "69/69 [==============================] - 13s 182ms/step - total_loss: 2643.7530 - reconstruction_loss: 2638.7903 - kl_loss: 4.0551\n",
      "Epoch 247/300\n",
      "69/69 [==============================] - 13s 182ms/step - total_loss: 2644.7313 - reconstruction_loss: 2637.7798 - kl_loss: 4.0956\n",
      "Epoch 248/300\n",
      "69/69 [==============================] - 13s 182ms/step - total_loss: 2643.8873 - reconstruction_loss: 2636.9216 - kl_loss: 4.2099\n",
      "Epoch 249/300\n",
      "69/69 [==============================] - 13s 183ms/step - total_loss: 2644.5033 - reconstruction_loss: 2638.8699 - kl_loss: 4.1132\n",
      "Epoch 250/300\n",
      "69/69 [==============================] - 13s 187ms/step - total_loss: 2645.6751 - reconstruction_loss: 2638.0791 - kl_loss: 4.0926\n",
      "Epoch 251/300\n",
      "69/69 [==============================] - 12s 175ms/step - total_loss: 2642.5082 - reconstruction_loss: 2637.4326 - kl_loss: 3.9729\n",
      "Epoch 252/300\n",
      "69/69 [==============================] - 13s 184ms/step - total_loss: 2645.5203 - reconstruction_loss: 2641.8584 - kl_loss: 3.8909\n",
      "Epoch 253/300\n",
      "69/69 [==============================] - 13s 186ms/step - total_loss: 2650.0874 - reconstruction_loss: 2644.1006 - kl_loss: 3.9088\n",
      "Epoch 254/300\n",
      "69/69 [==============================] - 13s 187ms/step - total_loss: 2648.3209 - reconstruction_loss: 2642.5813 - kl_loss: 3.9439\n",
      "Epoch 255/300\n",
      "69/69 [==============================] - 13s 179ms/step - total_loss: 2646.6846 - reconstruction_loss: 2640.6077 - kl_loss: 3.8931\n",
      "Epoch 256/300\n",
      "69/69 [==============================] - 12s 176ms/step - total_loss: 2646.5306 - reconstruction_loss: 2639.9412 - kl_loss: 3.8224\n",
      "Epoch 257/300\n",
      "69/69 [==============================] - 13s 179ms/step - total_loss: 2642.7319 - reconstruction_loss: 2637.5090 - kl_loss: 3.8163\n",
      "Epoch 258/300\n",
      "69/69 [==============================] - 12s 177ms/step - total_loss: 2639.2242 - reconstruction_loss: 2634.7534 - kl_loss: 3.8349\n",
      "Epoch 259/300\n",
      "69/69 [==============================] - 13s 179ms/step - total_loss: 2640.5212 - reconstruction_loss: 2634.5166 - kl_loss: 3.7685\n",
      "Epoch 260/300\n",
      "69/69 [==============================] - 13s 178ms/step - total_loss: 2650.9831 - reconstruction_loss: 2654.2859 - kl_loss: 3.5939\n",
      "Epoch 261/300\n",
      "69/69 [==============================] - 13s 188ms/step - total_loss: 2646.7602 - reconstruction_loss: 2640.8171 - kl_loss: 3.6522\n",
      "Epoch 262/300\n",
      "69/69 [==============================] - 13s 188ms/step - total_loss: 2658.1726 - reconstruction_loss: 2662.9319 - kl_loss: 5.5643\n",
      "Epoch 263/300\n",
      "69/69 [==============================] - 13s 186ms/step - total_loss: 2660.9372 - reconstruction_loss: 2648.0059 - kl_loss: 4.0963\n",
      "Epoch 264/300\n",
      "69/69 [==============================] - 13s 187ms/step - total_loss: 2647.8997 - reconstruction_loss: 2643.5642 - kl_loss: 3.9538\n",
      "Epoch 265/300\n",
      "69/69 [==============================] - 13s 186ms/step - total_loss: 2643.0020 - reconstruction_loss: 2636.5723 - kl_loss: 3.7876\n",
      "Epoch 266/300\n",
      "69/69 [==============================] - 13s 181ms/step - total_loss: 2640.4623 - reconstruction_loss: 2636.3950 - kl_loss: 3.7938\n",
      "Epoch 267/300\n",
      "69/69 [==============================] - 13s 178ms/step - total_loss: 2641.6654 - reconstruction_loss: 2635.4312 - kl_loss: 3.7733\n",
      "Epoch 268/300\n",
      "69/69 [==============================] - 13s 183ms/step - total_loss: 2640.4306 - reconstruction_loss: 2634.5793 - kl_loss: 3.7760\n",
      "Epoch 269/300\n",
      "69/69 [==============================] - 13s 178ms/step - total_loss: 2641.8439 - reconstruction_loss: 2634.7510 - kl_loss: 3.9507\n",
      "Epoch 270/300\n",
      "69/69 [==============================] - 12s 176ms/step - total_loss: 2639.1365 - reconstruction_loss: 2634.3218 - kl_loss: 3.9165\n",
      "Epoch 271/300\n",
      "69/69 [==============================] - 13s 178ms/step - total_loss: 2639.6510 - reconstruction_loss: 2634.0007 - kl_loss: 3.8016\n",
      "Epoch 272/300\n",
      "69/69 [==============================] - 13s 183ms/step - total_loss: 2641.6787 - reconstruction_loss: 2636.4563 - kl_loss: 3.9844\n",
      "Epoch 273/300\n",
      "69/69 [==============================] - 13s 183ms/step - total_loss: 2642.3923 - reconstruction_loss: 2634.9150 - kl_loss: 4.1154\n",
      "Epoch 274/300\n",
      "69/69 [==============================] - 13s 184ms/step - total_loss: 2639.1665 - reconstruction_loss: 2635.0547 - kl_loss: 4.0572\n",
      "Epoch 275/300\n",
      "69/69 [==============================] - 13s 181ms/step - total_loss: 2645.4524 - reconstruction_loss: 2639.3130 - kl_loss: 4.0048\n",
      "Epoch 276/300\n",
      "69/69 [==============================] - 13s 185ms/step - total_loss: 2643.0231 - reconstruction_loss: 2639.6555 - kl_loss: 3.9664\n",
      "Epoch 277/300\n",
      "69/69 [==============================] - 13s 184ms/step - total_loss: 2644.2941 - reconstruction_loss: 2638.5205 - kl_loss: 3.9273\n",
      "Epoch 278/300\n",
      "69/69 [==============================] - 13s 185ms/step - total_loss: 2642.8411 - reconstruction_loss: 2636.7695 - kl_loss: 3.8405\n",
      "Epoch 279/300\n",
      "69/69 [==============================] - 13s 185ms/step - total_loss: 2645.4539 - reconstruction_loss: 2636.8311 - kl_loss: 3.9387\n",
      "Epoch 280/300\n",
      "69/69 [==============================] - 13s 185ms/step - total_loss: 2638.4923 - reconstruction_loss: 2633.0669 - kl_loss: 3.8516\n",
      "Epoch 281/300\n",
      "69/69 [==============================] - 13s 187ms/step - total_loss: 2640.5122 - reconstruction_loss: 2636.6577 - kl_loss: 3.7258\n",
      "Epoch 282/300\n",
      "69/69 [==============================] - 13s 185ms/step - total_loss: 2639.0980 - reconstruction_loss: 2632.5000 - kl_loss: 3.9241\n",
      "Epoch 283/300\n",
      "69/69 [==============================] - 13s 186ms/step - total_loss: 2637.6962 - reconstruction_loss: 2630.5618 - kl_loss: 3.8845\n",
      "Epoch 284/300\n",
      "69/69 [==============================] - 13s 185ms/step - total_loss: 2634.1906 - reconstruction_loss: 2629.9402 - kl_loss: 3.7746\n",
      "Epoch 285/300\n",
      "69/69 [==============================] - 13s 186ms/step - total_loss: 2642.9851 - reconstruction_loss: 2639.6082 - kl_loss: 3.7748\n",
      "Epoch 286/300\n",
      "69/69 [==============================] - 13s 186ms/step - total_loss: 2640.0310 - reconstruction_loss: 2640.1206 - kl_loss: 4.0492\n",
      "Epoch 287/300\n",
      "69/69 [==============================] - 13s 181ms/step - total_loss: 2647.6111 - reconstruction_loss: 2640.8672 - kl_loss: 3.8071\n",
      "Epoch 288/300\n",
      "69/69 [==============================] - 13s 182ms/step - total_loss: 2654.8707 - reconstruction_loss: 2644.2705 - kl_loss: 3.9654\n",
      "Epoch 289/300\n",
      "69/69 [==============================] - 13s 186ms/step - total_loss: 2639.2627 - reconstruction_loss: 2631.4458 - kl_loss: 3.7795\n",
      "Epoch 290/300\n",
      "69/69 [==============================] - 13s 185ms/step - total_loss: 2638.1817 - reconstruction_loss: 2633.9373 - kl_loss: 3.7405\n",
      "Epoch 291/300\n",
      "69/69 [==============================] - 13s 185ms/step - total_loss: 2639.5609 - reconstruction_loss: 2637.0935 - kl_loss: 3.8089\n",
      "Epoch 292/300\n",
      "69/69 [==============================] - 13s 183ms/step - total_loss: 2648.1995 - reconstruction_loss: 2642.0159 - kl_loss: 3.8841\n",
      "Epoch 293/300\n",
      "69/69 [==============================] - 13s 180ms/step - total_loss: 2646.5031 - reconstruction_loss: 2639.0278 - kl_loss: 3.8129\n",
      "Epoch 294/300\n",
      "69/69 [==============================] - 13s 181ms/step - total_loss: 2645.3800 - reconstruction_loss: 2641.6841 - kl_loss: 3.8526\n",
      "Epoch 295/300\n",
      "69/69 [==============================] - 13s 183ms/step - total_loss: 2645.8934 - reconstruction_loss: 2636.6953 - kl_loss: 3.8420\n",
      "Epoch 296/300\n",
      "69/69 [==============================] - 13s 186ms/step - total_loss: 2639.1774 - reconstruction_loss: 2632.8552 - kl_loss: 3.8351\n",
      "Epoch 297/300\n",
      "69/69 [==============================] - 13s 185ms/step - total_loss: 2637.6619 - reconstruction_loss: 2631.5300 - kl_loss: 3.9430\n",
      "Epoch 298/300\n",
      "69/69 [==============================] - 13s 183ms/step - total_loss: 2638.0240 - reconstruction_loss: 2632.4666 - kl_loss: 4.0202\n",
      "Epoch 299/300\n",
      "69/69 [==============================] - 13s 177ms/step - total_loss: 2636.5257 - reconstruction_loss: 2631.1931 - kl_loss: 3.9261\n",
      "Epoch 300/300\n",
      "69/69 [==============================] - 13s 180ms/step - total_loss: 2642.7759 - reconstruction_loss: 2636.6384 - kl_loss: 3.8934\n"
     ]
    },
    {
     "data": {
      "text/plain": [
       "<keras.callbacks.History at 0x2c3b1e6b0>"
      ]
     },
     "execution_count": 52,
     "metadata": {},
     "output_type": "execute_result"
    }
   ],
   "source": [
    "vae.fit(whole_dataset, epochs=300)"
   ]
  },
  {
   "cell_type": "code",
   "execution_count": 53,
   "metadata": {},
   "outputs": [],
   "source": [
    "sample = next(iter(whole_dataset))[0]\n",
    "sample = np.expand_dims(sample, axis=0)"
   ]
  },
  {
   "cell_type": "code",
   "execution_count": 54,
   "metadata": {},
   "outputs": [
    {
     "name": "stdout",
     "output_type": "stream",
     "text": [
      "1/1 [==============================] - 0s 296ms/step\n"
     ]
    }
   ],
   "source": [
    "reconstructed = vae.predict(sample)"
   ]
  },
  {
   "cell_type": "code",
   "execution_count": 55,
   "metadata": {},
   "outputs": [],
   "source": [
    "import matplotlib.pyplot as plt"
   ]
  },
  {
   "cell_type": "code",
   "execution_count": 56,
   "metadata": {},
   "outputs": [],
   "source": [
    "reconstructed[0].shape\n",
    "reconstructed = reconstructed[0]"
   ]
  },
  {
   "cell_type": "code",
   "execution_count": 57,
   "metadata": {},
   "outputs": [],
   "source": [
    "reconstructed *= 128\n",
    "reconstructed += 64\n",
    "reconstructed = np.clip(0, 255, reconstructed)\n",
    "reconstructed = reconstructed.astype(\"uint8\")"
   ]
  },
  {
   "cell_type": "code",
   "execution_count": 58,
   "metadata": {},
   "outputs": [
    {
     "data": {
      "text/plain": [
       "<matplotlib.image.AxesImage at 0x32a72b130>"
      ]
     },
     "execution_count": 58,
     "metadata": {},
     "output_type": "execute_result"
    },
    {
     "data": {
      "image/png": "[encoded data removed]",
      "text/plain": [
       "<Figure size 640x480 with 1 Axes>"
      ]
     },
     "metadata": {},
     "output_type": "display_data"
    }
   ],
   "source": [
    "plt.imshow(sample[0])"
   ]
  },
  {
   "cell_type": "code",
   "execution_count": 59,
   "metadata": {},
   "outputs": [
    {
     "data": {
      "text/plain": [
       "<matplotlib.image.AxesImage at 0x328bc86d0>"
      ]
     },
     "execution_count": 59,
     "metadata": {},
     "output_type": "execute_result"
    },
    {
     "data": {
      "image/png": "[encoded data removed]",
      "text/plain": [
       "<Figure size 640x480 with 1 Axes>"
      ]
     },
     "metadata": {},
     "output_type": "display_data"
    }
   ],
   "source": [
    "plt.imshow(reconstructed)"
   ]
  },
  {
   "cell_type": "code",
   "execution_count": 60,
   "metadata": {},
   "outputs": [],
   "source": [
    "m, s = encoder(sample)"
   ]
  }
 ],
 "metadata": {
  "kernelspec": {
   "display_name": "tfm1",
   "language": "python",
   "name": "python3"
  },
  "language_info": {
   "codemirror_mode": {
    "name": "ipython",
    "version": 3
   },
   "file_extension": ".py",
   "mimetype": "text/x-python",
   "name": "python",
   "nbconvert_exporter": "python",
   "pygments_lexer": "ipython3",
   "version": "3.10.10"
  },
  "orig_nbformat": 4
 },
 "nbformat": 4,
 "nbformat_minor": 2
}
